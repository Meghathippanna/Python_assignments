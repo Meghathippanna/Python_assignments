{
 "cells": [
  {
   "cell_type": "markdown",
   "id": "d38357b7",
   "metadata": {},
   "source": [
    "# Assignment-3 Python"
   ]
  },
  {
   "cell_type": "markdown",
   "id": "d230888e",
   "metadata": {},
   "source": [
    "1. Why are functions advantageous to have in your programs?\n",
    "\n",
    "        Functions are advantageous because of \n",
    "            --> reusability instead of rewrite a block of code all over again, \n",
    "            --> readability and organized "
   ]
  },
  {
   "cell_type": "markdown",
   "id": "6736a4cb",
   "metadata": {},
   "source": [
    "2. When does the code in a function run: when it's specified or when it's called?\n",
    "        The code in a function runs when its called. "
   ]
  },
  {
   "cell_type": "code",
   "execution_count": 5,
   "id": "2f236014",
   "metadata": {},
   "outputs": [
    {
     "name": "stdout",
     "output_type": "stream",
     "text": [
      "The name of the function is print_function\n"
     ]
    }
   ],
   "source": [
    "def print_function():\n",
    "    print(\"The name of the function is print_function\")\n",
    "\n",
    "# Function definition has been specified, but the code inside hasn't run yet.\n",
    "\n",
    "# calling the function:\n",
    "print_function()\n"
   ]
  },
  {
   "cell_type": "markdown",
   "id": "61b3bf58",
   "metadata": {},
   "source": [
    "3. What statement creates a function?\n",
    "        The statement def creates a function"
   ]
  },
  {
   "cell_type": "code",
   "execution_count": 12,
   "id": "901ba2b9",
   "metadata": {},
   "outputs": [
    {
     "name": "stdout",
     "output_type": "stream",
     "text": [
      "Hi Tom\n"
     ]
    }
   ],
   "source": [
    "#def creates function\n",
    "def new_function(name):\n",
    "    print(f\"Hi {name}\")\n",
    "    \n",
    "new_function(\"Tom\")"
   ]
  },
  {
   "cell_type": "markdown",
   "id": "7ae8a613",
   "metadata": {},
   "source": [
    "4. What is the difference between a function and a function call?\n",
    "        Function is a block of code which can be reused and does a task or set of task \n",
    "        Function call is invoking a function by specifying a function name and parameters\n",
    "        "
   ]
  },
  {
   "cell_type": "code",
   "execution_count": 1,
   "id": "b7fe51ef",
   "metadata": {},
   "outputs": [
    {
     "data": {
      "text/plain": [
       "11"
      ]
     },
     "execution_count": 1,
     "metadata": {},
     "output_type": "execute_result"
    }
   ],
   "source": [
    "#function\n",
    "def sum(x,y):\n",
    "    return(x+y)\n",
    "#calling a function\n",
    "sum(5,6)"
   ]
  },
  {
   "cell_type": "markdown",
   "id": "d6714c7e",
   "metadata": {},
   "source": [
    "5. How many global scopes are there in a Python program? How many local scopes?\n",
    "\n",
    "A variable inside the function is local scope and can be multiple local scopes\n",
    "A vairable in the main body of the Python code is a global variable and belongs to the global scope. There is typically one global scope"
   ]
  },
  {
   "cell_type": "code",
   "execution_count": 3,
   "id": "684bf2b5",
   "metadata": {},
   "outputs": [
    {
     "data": {
      "text/plain": [
       "150"
      ]
     },
     "execution_count": 3,
     "metadata": {},
     "output_type": "execute_result"
    }
   ],
   "source": [
    "#global variable belongs to global scope\n",
    "x= 100\n",
    "def addition():\n",
    "#local variable belonging to local scope\n",
    "    y= 50\n",
    "    return(x+y)\n",
    "\n",
    "addition()"
   ]
  },
  {
   "cell_type": "markdown",
   "id": "ce317170",
   "metadata": {},
   "source": [
    "6. What happens to variables in a local scope when the function call returns?\n",
    "    \n",
    "        When a function returns, the local scope is destroyed, and all the variables in it are forgotten."
   ]
  },
  {
   "cell_type": "markdown",
   "id": "93c6d83e",
   "metadata": {},
   "source": [
    "7. What is the concept of a return value? Is it possible to have a return value in an expression?\n",
    "\n",
    "        A return statement is used to end the execution of the function call and returns the result. Yes, it is possible to have a return in an expression."
   ]
  },
  {
   "cell_type": "code",
   "execution_count": 18,
   "id": "c817c3b5",
   "metadata": {},
   "outputs": [
    {
     "data": {
      "text/plain": [
       "9"
      ]
     },
     "execution_count": 18,
     "metadata": {},
     "output_type": "execute_result"
    }
   ],
   "source": [
    "#concept of return value\n",
    "def square(x):\n",
    "    result = x**2\n",
    "    return result\n",
    "\n",
    "square(3)"
   ]
  },
  {
   "cell_type": "markdown",
   "id": "855d552d",
   "metadata": {},
   "source": [
    "8. If a function does not have a return statement, what is the return value of a call to that function?\n",
    "        \n",
    "    If a function does not have a return statement, none is the return value of a call to that function\n",
    "    \n",
    "    If the return statement is without any expression, then the special value None is returned."
   ]
  },
  {
   "cell_type": "code",
   "execution_count": 41,
   "id": "35eac228",
   "metadata": {},
   "outputs": [],
   "source": [
    "# Wihout return statement\n",
    "def cube(x):\n",
    "   r=x**3\n",
    "\n",
    "cube(2)"
   ]
  },
  {
   "cell_type": "markdown",
   "id": "f4f4f890",
   "metadata": {},
   "source": [
    "9. How do you make a function variable refer to the global variable?\n",
    "\n",
    "        The global keyword will make a function variable refer to the global variable"
   ]
  },
  {
   "cell_type": "code",
   "execution_count": 39,
   "id": "8489a1c2",
   "metadata": {},
   "outputs": [
    {
     "name": "stdout",
     "output_type": "stream",
     "text": [
      "The addition result is 15\n",
      "The multiplication result is 50\n"
     ]
    }
   ],
   "source": [
    "y =10\n",
    "def add(x):\n",
    "    global y\n",
    "    result= x+y\n",
    "    return result\n",
    "print(f\"The addition result is {add(5)}\")\n",
    "\n",
    "def multiply(a):\n",
    "    global y\n",
    "    results = a*y\n",
    "    return results\n",
    "\n",
    "print(f\"The multiplication result is {multiply(5)}\")\n",
    "    "
   ]
  },
  {
   "cell_type": "markdown",
   "id": "1a1a954f",
   "metadata": {},
   "source": [
    "10. What is the data type of None?\n",
    "        The data type of None is NoneType"
   ]
  },
  {
   "cell_type": "code",
   "execution_count": 42,
   "id": "b0f27103",
   "metadata": {},
   "outputs": [
    {
     "name": "stdout",
     "output_type": "stream",
     "text": [
      "<class 'NoneType'>\n"
     ]
    }
   ],
   "source": [
    "#Data type of none\n",
    "result = None\n",
    "print(type(result))  \n"
   ]
  },
  {
   "cell_type": "markdown",
   "id": "cf02c679",
   "metadata": {},
   "source": [
    "11. What does the sentence import areallyourpetsnamederic do?\n",
    "\n",
    "   The sentence  \"import areallyourpetsnamederic\" imports the module named areallyourpetsnamederic "
   ]
  },
  {
   "cell_type": "markdown",
   "id": "de9c93fb",
   "metadata": {},
   "source": [
    "12. If you had a bacon() feature in a spam module, what would you call it after importing spam?\n",
    "\n",
    "        import spam\n",
    "        spam.bacon()"
   ]
  },
  {
   "cell_type": "markdown",
   "id": "5f6764e7",
   "metadata": {},
   "source": [
    "13. What can you do to save a programme from crashing if it encounters an error?\n",
    "            Exception handling handle codes and continue the execution of the programme. This is done using the keywords try and except"
   ]
  },
  {
   "cell_type": "code",
   "execution_count": 48,
   "id": "edbd9fcd",
   "metadata": {},
   "outputs": [
    {
     "name": "stdout",
     "output_type": "stream",
     "text": [
      "Error: You cannot divide by zero\n",
      "Thank you for using the calculator\n",
      "Result of division: 5.0\n",
      "Thank you for using the calculator\n"
     ]
    }
   ],
   "source": [
    "def calculator(x, y):\n",
    "    try:\n",
    "        result = x / y\n",
    "    except ZeroDivisionError:\n",
    "        # Handle division by zero\n",
    "        print(\"Error: You cannot divide by zero\")\n",
    "    else:\n",
    "        # Code to execute if no exception is raised\n",
    "        print(\"Result of division:\", result)\n",
    "    finally:\n",
    "        print(\"Thank you for using the calculator\")\n",
    "\n",
    "calculator(10, 0)\n",
    "calculator(10, 2)"
   ]
  },
  {
   "cell_type": "markdown",
   "id": "cbe69f1b",
   "metadata": {},
   "source": [
    "14. What is the purpose of the try clause? What is the purpose of the except clause?\n",
    "        The try clause contains the block of code where you anticipate that an exception might occur. \n",
    "        The except clause is used to catch and handle exceptions that occur in the associated try block."
   ]
  }
 ],
 "metadata": {
  "kernelspec": {
   "display_name": "Python 3 (ipykernel)",
   "language": "python",
   "name": "python3"
  },
  "language_info": {
   "codemirror_mode": {
    "name": "ipython",
    "version": 3
   },
   "file_extension": ".py",
   "mimetype": "text/x-python",
   "name": "python",
   "nbconvert_exporter": "python",
   "pygments_lexer": "ipython3",
   "version": "3.9.13"
  }
 },
 "nbformat": 4,
 "nbformat_minor": 5
}
