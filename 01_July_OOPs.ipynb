{
 "cells": [
  {
   "cell_type": "markdown",
   "id": "794b66ec",
   "metadata": {},
   "source": [
    "# Python assignments\n",
    "01 July OOPS assignment"
   ]
  },
  {
   "cell_type": "markdown",
   "id": "21b2b141",
   "metadata": {},
   "source": [
    "1. \n",
    "What is the primary goal of Object-Oriented Programming (OOP)?\n",
    "\n",
    "     The primary goal of Object-Oriented Programming is \n",
    " \n",
    "     --> Improve the software development process\n",
    "     --> Organizing code into objects\n",
    "     --> Breaking down complex systems into smaller, manageable parts (objects)\n",
    "     --> Reusability through Inheritance \n",
    "     --> Share information among different objects\n",
    "     --> Encapuslation: hiding a class’s internal operations\n",
    "     --> Abstraction:  Hides the backend functionality"
   ]
  },
  {
   "cell_type": "markdown",
   "id": "fc856f20",
   "metadata": {},
   "source": [
    "2. \n",
    "What is an object in Python?\n",
    "\n",
    "    --> Object is instance of classes .\n",
    "    --> Once object is created from a particular class, its attributes and methods can be accesed using dot notation."
   ]
  },
  {
   "cell_type": "code",
   "execution_count": 70,
   "id": "cb1debe6",
   "metadata": {},
   "outputs": [
    {
     "name": "stdout",
     "output_type": "stream",
     "text": [
      "Good Day, Megha\n"
     ]
    }
   ],
   "source": [
    "class Greeting:        \n",
    "    def greet(self, name):\n",
    "        print(f\"Good Day, {name}\")\n",
    "        \n",
    "###OBJECT\n",
    "Object1 = Greeting()\n",
    "Object1.greet(\"Megha\")"
   ]
  },
  {
   "cell_type": "markdown",
   "id": "35cfa758",
   "metadata": {},
   "source": [
    "3. \n",
    "What is a class in Python?\n",
    "\n",
    "    --> Class in python is template or blueprint for building an object\n",
    "    --> To define a class in Python, you use the class keyword, followed by the class name and a colon"
   ]
  },
  {
   "cell_type": "code",
   "execution_count": 71,
   "id": "a746286c",
   "metadata": {},
   "outputs": [],
   "source": [
    "class Myclass:\n",
    "    pass"
   ]
  },
  {
   "cell_type": "markdown",
   "id": "c0dc9ed5",
   "metadata": {},
   "source": [
    "4.\n",
    "What are attributes and methods in a class?\n",
    "        \n",
    "        --> Any variable that is bound in a class is a attribute\n",
    "        --> Attributes are defined within a class and can be accessed and modified by both the class and its objects\n",
    "        --> Attributes can be accessed using the dot notation\n",
    "        \n",
    "        --> Any function defined within a class is a method\n",
    "        --> Methods are functions belonging to an object and are designed to perform actions or operations involving the object's attributes\n"
   ]
  },
  {
   "cell_type": "code",
   "execution_count": 72,
   "id": "4713c714",
   "metadata": {},
   "outputs": [
    {
     "name": "stdout",
     "output_type": "stream",
     "text": [
      " Toyota : model of year 2022 is accelerated by 10 mph\n"
     ]
    }
   ],
   "source": [
    "class Car:\n",
    "    def __init__(self, make, year):\n",
    "        self.make = make  # Attribute\n",
    "        self.year = year  # Attribute\n",
    "\n",
    "    def accelerate(self, speed_increase):  # Method\n",
    "        print(f\" {self.make} : model of year {self.year} is accelerated by {speed_increase} mph\")\n",
    "        \n",
    "my_car = Car(\"Toyota\", 2022)\n",
    "my_car.accelerate(10) "
   ]
  },
  {
   "cell_type": "markdown",
   "id": "9530648f",
   "metadata": {},
   "source": [
    "5.\n",
    "What is the difference between class variables and instance variables in Python?"
   ]
  },
  {
   "cell_type": "markdown",
   "id": "3141420e",
   "metadata": {},
   "source": [
    "--> Class variables are variables that are shared among all instances (objects) of a class.They are defined within the class body but outside of any instance methods They are typically used to store data that is common to all instances of the class   "
   ]
  },
  {
   "cell_type": "markdown",
   "id": "fdba3900",
   "metadata": {},
   "source": [
    "--> Instance variables are unique to each instance (object) of a class. \n",
    "They are defined within the class methods (usually within the __init__() constructor method) using the self keyword."
   ]
  },
  {
   "cell_type": "code",
   "execution_count": 69,
   "id": "23136f9b",
   "metadata": {},
   "outputs": [
    {
     "name": "stdout",
     "output_type": "stream",
     "text": [
      "Name of the Student: Megha\n",
      "Marks for the subject Data Science: 75\n"
     ]
    },
    {
     "data": {
      "text/plain": [
       "'10th std'"
      ]
     },
     "execution_count": 69,
     "metadata": {},
     "output_type": "execute_result"
    }
   ],
   "source": [
    "class Science:\n",
    "    Standard = \"10th std\" #class variable\n",
    "    \n",
    "    def __init__(self, name, marks):\n",
    "        self.name = name #instance variable\n",
    "        self.marks = marks #instance variable\n",
    "    \n",
    "    def get_details(self):\n",
    "        print (f\"Name of the Student: {self.name}\")\n",
    "        print (f\"Marks for the subject Data Science: {self.marks}\")\n",
    "        \n",
    "Subject = Science(\"Megha\", 75)\n",
    "Subject.get_details()\n",
    "Subject.Standard"
   ]
  },
  {
   "cell_type": "markdown",
   "id": "8f65493c",
   "metadata": {},
   "source": [
    "6. \n",
    "What is the purpose of the self parameter in Python class methods?\n",
    "\n",
    " --> self parameter in class methods serves the purpose of referring to the current instance of the class\n",
    " --> self parameter allows methods to access and modify the attributes (instance variables) of the current object (instance) within the class. \n"
   ]
  },
  {
   "cell_type": "markdown",
   "id": "9050c5cc",
   "metadata": {},
   "source": [
    "Question 7.\n",
    "For a library management system, you have to design the \"Book\" class with OOP principles in mind. The “Book” class will have following attributes:\n",
    "\n",
    "    a. title: Represents the title of the book.\n",
    "    b. author: Represents the author(s) of the book.\n",
    "    c. isbn: Represents the ISBN (International Standard Book Number) of the book.\n",
    "    d. publication_year: Represents the year of publication of the book.\n",
    "    e. available_copies: Represents the number of copies available for checkout.\n",
    "\n",
    "The class will also include the following methods:\n",
    "\n",
    "    a. check_out(self): Decrements the available copies by one if there are copies available for checkout.\n",
    "    b. return_book(self): Increments the available copies by one when a book is returned.\n",
    "    c. display_book_info(self): Displays the information about the book, including its attributes and the number of available copies."
   ]
  },
  {
   "cell_type": "code",
   "execution_count": 30,
   "id": "b45b0902",
   "metadata": {},
   "outputs": [
    {
     "name": "stdout",
     "output_type": "stream",
     "text": [
      "Information of the Book:\n",
      "Title: The power of subconscious mind\n",
      "Author: Joseph Murphy\n",
      "International Standard Book Number: 123456789\n",
      "Published in the year: 1963\n",
      "Number of copies available in the library is 10\n"
     ]
    }
   ],
   "source": [
    "#solving Question 7 \n",
    "\n",
    "class Book:\n",
    "    def __init__(self, title, author, isbn, publication_year, available_copies):\n",
    "        self.title = title\n",
    "        self.author= author\n",
    "        self.isbn = isbn\n",
    "        self.publication_year= publication_year\n",
    "        self.available_copies = available_copies\n",
    "        \n",
    "    def check_out(self):\n",
    "        if self.available_copies > 0:\n",
    "            self.available_copies -=1\n",
    "            print(f\"Book titled {self.title} writted by {self.author} checked out. Copies available {self.available_copies}\")\n",
    "        else:\n",
    "            print(f\"Sorry, there are no copies of the book titled {self.title} written by {self.author}. Please check later\")\n",
    "    \n",
    "    def return_book(self):\n",
    "        self.available_copies +=1\n",
    "        print(f\"Book titled {self.title} written by {self.author} has been returned. Total number of copies is now {self.available_copies}\")\n",
    "    \n",
    "    def display_book_info(self):\n",
    "        print(\"Information of the Book:\")\n",
    "        print(f\"Title: {self.title}\")\n",
    "        print(f\"Author: {self.author}\")\n",
    "        print(f\"International Standard Book Number: {self.isbn}\")\n",
    "        print(f\"Published in the year: {self.publication_year}\")\n",
    "        print(f\"Number of copies available in the library is {self.available_copies}\")\n",
    "        \n",
    "        \n",
    "book1 = Book(\"The power of subconscious mind\", \"Joseph Murphy\", \"123456789\", 1963, 10)\n",
    "book1.display_book_info()\n"
   ]
  },
  {
   "cell_type": "code",
   "execution_count": 28,
   "id": "cfcef5e1",
   "metadata": {},
   "outputs": [
    {
     "name": "stdout",
     "output_type": "stream",
     "text": [
      "Book titled The power of subconscious mind writted by Joseph Murphy checked out. Copies available 9\n"
     ]
    }
   ],
   "source": [
    "book1.check_out()"
   ]
  },
  {
   "cell_type": "code",
   "execution_count": 29,
   "id": "32846e5f",
   "metadata": {},
   "outputs": [
    {
     "name": "stdout",
     "output_type": "stream",
     "text": [
      "Book titled The power of subconscious mind written by Joseph Murphy has been returned. Total number of copies is now 10\n"
     ]
    }
   ],
   "source": [
    "book1.return_book()"
   ]
  },
  {
   "cell_type": "markdown",
   "id": "7a213fab",
   "metadata": {},
   "source": [
    "Question 8. \n",
    "For a ticket booking system, you have to design the \"Ticket\" class with OOP principles in mind. The “Ticket” class should have the following attributes:\n",
    "\n",
    "    a. ticket_id: Represents the unique identifier for the ticket.    \n",
    "    b. event_name: Represents the name of the event.    \n",
    "    c. event_date: Represents the date of the event.    \n",
    "    d. venue: Represents the venue of the event.    \n",
    "    e. seat_number: Represents the seat number associated with the ticket.    \n",
    "    f. price: Represents the price of the ticket.    \n",
    "    g. is_reserved: Represents the reservation status of the ticket.\n",
    "    \n",
    "The class also includes the following methods:\n",
    "\n",
    "    a. reserve_ticket(self): Marks the ticket as reserved if it is not already reserved.\n",
    "    b. cancel_reservation(self): Cancels the reservation of the ticket if it is already reserved.\n",
    "    c. display_ticket_info(self): Displays the information about the ticket, including its attributes and reservation status."
   ]
  },
  {
   "cell_type": "code",
   "execution_count": 35,
   "id": "7952943a",
   "metadata": {},
   "outputs": [
    {
     "name": "stdout",
     "output_type": "stream",
     "text": [
      "Ticket information:\n",
      "Ticked Number: 100\n",
      "Event Name: Music Concert\n",
      "Venue: ABC Concert Hall\n",
      "Seat Number: 55\n",
      "Cost: 2500\n",
      "Reservation Status: Not Reserved\n"
     ]
    }
   ],
   "source": [
    "class Ticket:\n",
    "    def __init__(self, ticket_id, event_name, event_date, venue, seat_number, price, is_reserved):\n",
    "        self.ticket_id = ticket_id\n",
    "        self.event_name = event_name\n",
    "        self.event_date = event_date\n",
    "        self.venue = venue\n",
    "        self.seat_number = seat_number\n",
    "        self.price = price\n",
    "        self.is_reserved = is_reserved\n",
    "    \n",
    "    def reserve_ticket(self):\n",
    "        if self.is_reserved == \"Not Reserved\":\n",
    "            self.is_reserved = \"Reserved\"\n",
    "            print (f\"Ticket id {self.ticket_id} reserved successfully\")\n",
    "        else:\n",
    "            print(f\"Ticket id {self.ticket_id} already reserved\")\n",
    "    \n",
    "    def cancel_reservation(self):\n",
    "        if self.is_reserved == \"Reserved\":\n",
    "            self.is_reserved= \"Not Reserved\"\n",
    "            print (f\"Ticket id {self.ticket_id} reservation cancelled\")\n",
    "        else:\n",
    "            print(f\"Ticket id {self.ticket_id} is not reserved\")\n",
    "    \n",
    "    def display_ticket_info(self):\n",
    "        print (\"Ticket information:\")\n",
    "        print (f\"Ticked Number: {self.ticket_id}\")\n",
    "        print (f\"Event Name: {self.event_name}\")\n",
    "        print (f\"Venue: {self.venue}\")    \n",
    "        print (f\"Seat Number: {self.seat_number}\")\n",
    "        print (f\"Cost: {self.price}\")\n",
    "        print (f\"Reservation Status: {self.is_reserved}\")\n",
    "        \n",
    "Ticket1 = Ticket(100, \"Music Concert\", \"23 May 2024\", \"ABC Concert Hall\", 55, 2500, \"Not Reserved\")\n",
    "Ticket1.display_ticket_info()"
   ]
  },
  {
   "cell_type": "code",
   "execution_count": 37,
   "id": "52524118",
   "metadata": {},
   "outputs": [
    {
     "name": "stdout",
     "output_type": "stream",
     "text": [
      "Ticket id 100 reserved successfully\n"
     ]
    }
   ],
   "source": [
    "Ticket1.reserve_ticket()"
   ]
  },
  {
   "cell_type": "code",
   "execution_count": 38,
   "id": "d3128aa3",
   "metadata": {},
   "outputs": [
    {
     "name": "stdout",
     "output_type": "stream",
     "text": [
      "Ticket id 100 reservation cancelled\n"
     ]
    }
   ],
   "source": [
    "Ticket1.cancel_reservation()"
   ]
  },
  {
   "cell_type": "markdown",
   "id": "2c9243d3",
   "metadata": {},
   "source": [
    "Question 9. \n",
    "You are creating a shopping cart for an e-commerce website. Using OOP to model the \"ShoppingCart\" functionality the class should contain following attributes and methods:\n",
    "\n",
    "    a.items: Represents the list of items in the shopping cart.\n",
    "\n",
    "The class also includes the following methods:\n",
    "\n",
    "    a. add_item(self, item): Adds an item to the shopping cart by appending it to the list of items.    \n",
    "    b. remove_item(self, item): Removes an item from the shopping cart if it exists in the list.    \n",
    "    c. view_cart(self): Displays the items currently present in the shopping cart.    \n",
    "    d. clear_cart(self): Clears all items from the shopping cart by reassigning an empty list to the items attribute."
   ]
  },
  {
   "cell_type": "code",
   "execution_count": 23,
   "id": "5f290a2b",
   "metadata": {},
   "outputs": [
    {
     "name": "stdout",
     "output_type": "stream",
     "text": [
      "Item Cake added to cart\n",
      "Item Apples added to cart\n",
      "['Cake', 'Apples']\n"
     ]
    }
   ],
   "source": [
    "class ShoppingCart:\n",
    "    def __init__(self):\n",
    "        self.item = []\n",
    "    def add_items(self, item):\n",
    "        self.item.append(item)\n",
    "        print(f\"Item {item} added to cart\")\n",
    "    def remove_items(self, item):\n",
    "        if item in self.item:\n",
    "            self.item = self.item.remove(item)\n",
    "            print(f\"Item {item} removed from the cart\")\n",
    "        else:\n",
    "            print(f\"Item {item} does not exist in the cart\")\n",
    "    def view_cart(self):\n",
    "        print(self.item)\n",
    "    def clear_cart(self):\n",
    "        self.item = []\n",
    "        print(\"Cart cleared\")\n",
    "\n",
    "Cart1 = ShoppingCart()\n",
    "Cart1.add_items(\"Cake\")\n",
    "Cart1.add_items(\"Apples\")\n",
    "Cart1.view_cart()"
   ]
  },
  {
   "cell_type": "code",
   "execution_count": 24,
   "id": "dfc367b3",
   "metadata": {},
   "outputs": [
    {
     "name": "stdout",
     "output_type": "stream",
     "text": [
      "Item phone does not exist in the cart\n"
     ]
    }
   ],
   "source": [
    "Cart1.remove_items(\"phone\")"
   ]
  },
  {
   "cell_type": "code",
   "execution_count": 25,
   "id": "f34f10d7",
   "metadata": {},
   "outputs": [
    {
     "name": "stdout",
     "output_type": "stream",
     "text": [
      "Cart cleared\n"
     ]
    }
   ],
   "source": [
    "Cart1.clear_cart()"
   ]
  },
  {
   "cell_type": "markdown",
   "id": "2d67d3c3",
   "metadata": {},
   "source": [
    "Question 10. \n",
    "Imagine a school management system. You have to design the \"Student\" class using OOP concepts.The “Student” class has the following attributes:\n",
    "    \n",
    "    a. name: Represents the name of the student.    \n",
    "    b. age: Represents the age of the student.    \n",
    "    c. grade: Represents the grade or class of the student.    \n",
    "    d. student_id: Represents the unique identifier for the student.    \n",
    "    e. attendance: Represents the attendance record of the student.\n",
    "    \n",
    "The class should also include the following methods:\n",
    "\n",
    "    a. update_attendance(self, date, status): Updates the attendance record of the student for a given date with the provided status (e.g., present or absent).\n",
    "    b. get_attendance(self): Returns the attendance record of the student.    \n",
    "    c. get_average_attendance(self): Calculates and returns the average attendance percentage of the student based on their attendance record."
   ]
  },
  {
   "cell_type": "code",
   "execution_count": 44,
   "id": "d82acb13",
   "metadata": {},
   "outputs": [
    {
     "name": "stdout",
     "output_type": "stream",
     "text": [
      " Student : Megha Thippanna\n",
      " Age: 20\n",
      " Grade: 10th Grade\n",
      " Student id: 1023\n",
      " Attendance details: {'26 Feb 2024': 'present', '27 Feb 2024': 'present', '28 Feb 2024': 'present', '29 Feb 2024': 'absent'}\n"
     ]
    }
   ],
   "source": [
    "class Student:\n",
    "    def __init__(self, name, age, grade, student_id):\n",
    "        self.name = name\n",
    "        self.age = age\n",
    "        self.grade = grade\n",
    "        self.student_id = student_id\n",
    "        self.attendance = {}\n",
    "    \n",
    "    def update_attendance(self, date, status):\n",
    "        self.attendance[date] = status\n",
    "              \n",
    "    def get_attendance(self):\n",
    "        print (f\" Student : {self.name}\")\n",
    "        print (f\" Age: {self.age}\")\n",
    "        print (f\" Grade: {self.grade}\")\n",
    "        print (f\" Student id: {self.student_id}\")\n",
    "        print (f\" Attendance details: {self.attendance}\")\n",
    "              \n",
    "    def get_average_attendance(self):\n",
    "        total_days = len(self.attendance)\n",
    "        present_days = list(self.attendance.values()).count('present')\n",
    "        if total_days == 0:\n",
    "            return \"Zero\"\n",
    "        else:\n",
    "            return (present_days / total_days) * 100\n",
    "        \n",
    "student1 = Student(\"Megha Thippanna\", 20, \"10th Grade\", \"1023\")\n",
    "student1.update_attendance(\"26 Feb 2024\", \"present\")\n",
    "student1.update_attendance(\"27 Feb 2024\", \"present\")\n",
    "student1.update_attendance(\"28 Feb 2024\", \"present\")\n",
    "student1.update_attendance(\"29 Feb 2024\", \"absent\")\n",
    "\n",
    "student1.get_attendance()"
   ]
  },
  {
   "cell_type": "code",
   "execution_count": 45,
   "id": "d3049553",
   "metadata": {},
   "outputs": [
    {
     "data": {
      "text/plain": [
       "75.0"
      ]
     },
     "execution_count": 45,
     "metadata": {},
     "output_type": "execute_result"
    }
   ],
   "source": [
    "student1.get_average_attendance()"
   ]
  }
 ],
 "metadata": {
  "kernelspec": {
   "display_name": "Python 3 (ipykernel)",
   "language": "python",
   "name": "python3"
  },
  "language_info": {
   "codemirror_mode": {
    "name": "ipython",
    "version": 3
   },
   "file_extension": ".py",
   "mimetype": "text/x-python",
   "name": "python",
   "nbconvert_exporter": "python",
   "pygments_lexer": "ipython3",
   "version": "3.11.5"
  }
 },
 "nbformat": 4,
 "nbformat_minor": 5
}
