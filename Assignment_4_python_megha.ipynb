{
 "cells": [
  {
   "cell_type": "markdown",
   "id": "162c3684",
   "metadata": {},
   "source": [
    "1. What exactly is []?\n",
    "\n",
    "        [] indicates empty list without any items in it.\n",
    "--------------------------------------------------------------------------------------------------------------------------------"
   ]
  },
  {
   "cell_type": "markdown",
   "id": "7fd9296b",
   "metadata": {},
   "source": [
    "2. In a list of values stored in a variable called spam, how would you assign the value 'hello' as the third value? (Assume [2, 4, 6, 8, 10] are in spam.)"
   ]
  },
  {
   "cell_type": "code",
   "execution_count": 1,
   "id": "ce82f7b1",
   "metadata": {},
   "outputs": [
    {
     "name": "stdout",
     "output_type": "stream",
     "text": [
      "[2, 4, 'hello', 8, 10]\n"
     ]
    }
   ],
   "source": [
    "spam = [2, 4, 6, 8, 10]\n",
    "spam[2]= \"hello\"\n",
    "\n",
    "print(spam)"
   ]
  },
  {
   "cell_type": "markdown",
   "id": "998e6d5a",
   "metadata": {},
   "source": [
    "--------------------------------------------------------------------------------------------------------------------------------\n",
    "Let's pretend the spam includes the list ['a', 'b', 'c', 'd'] for the next three queries."
   ]
  },
  {
   "cell_type": "markdown",
   "id": "b3d4ef21",
   "metadata": {},
   "source": [
    "3. What is the value of spam[int(int('3' * 2) / 11)]?\n",
    "        \n",
    "    Solution: \n",
    "              int('3'*2)/11 = 33/11 = 3\n",
    "              spam[int(int('3' * 2) / 11)] = spam[int(3)] = spam[3]\n",
    "              spam[3]= d # The 4th value in spam is 'd' "
   ]
  },
  {
   "cell_type": "code",
   "execution_count": 2,
   "id": "dcc78eaa",
   "metadata": {},
   "outputs": [
    {
     "data": {
      "text/plain": [
       "'d'"
      ]
     },
     "execution_count": 2,
     "metadata": {},
     "output_type": "execute_result"
    }
   ],
   "source": [
    "spam = ['a', 'b', 'c', 'd']\n",
    "spam[int(3)]"
   ]
  },
  {
   "cell_type": "markdown",
   "id": "d3252c31",
   "metadata": {},
   "source": [
    "________________________________________________________________________________________________________________________________\n",
    "4. What is the value of spam[-1]?\n",
    "       \n",
    "       The value of spam[-1] is 'd'"
   ]
  },
  {
   "cell_type": "code",
   "execution_count": 37,
   "id": "762925c8",
   "metadata": {},
   "outputs": [
    {
     "data": {
      "text/plain": [
       "'d'"
      ]
     },
     "execution_count": 37,
     "metadata": {},
     "output_type": "execute_result"
    }
   ],
   "source": [
    "spam = ['a', 'b', 'c', 'd']\n",
    "spam[-1]"
   ]
  },
  {
   "cell_type": "markdown",
   "id": "d5fcc451",
   "metadata": {},
   "source": [
    "________________________________________________________________________________________________________________________________\n",
    "5. What is the value of spam[:2]?\n",
    "\n",
    "    The value of spam[:2] is ['a', 'b']\n"
   ]
  },
  {
   "cell_type": "code",
   "execution_count": 4,
   "id": "60803c30",
   "metadata": {},
   "outputs": [
    {
     "data": {
      "text/plain": [
       "['a', 'b']"
      ]
     },
     "execution_count": 4,
     "metadata": {},
     "output_type": "execute_result"
    }
   ],
   "source": [
    "spam = ['a', 'b', 'c', 'd']\n",
    "spam[:2]"
   ]
  },
  {
   "cell_type": "markdown",
   "id": "a8c79cc6",
   "metadata": {},
   "source": [
    "________________________________________________________________________________________________________________________________\n",
    "Let's pretend bacon has the list [3.14, 'cat,' 11, 'cat,' True] for the next three questions.\n",
    "\n",
    "6. What is the value of bacon.index('cat')?\n",
    "        The value of bacon.index('cat') will be the index of the first occurrence of the string 'cat' in the list. The value of bacon.index is 1."
   ]
  },
  {
   "cell_type": "code",
   "execution_count": 5,
   "id": "63a1ea3e",
   "metadata": {},
   "outputs": [
    {
     "data": {
      "text/plain": [
       "1"
      ]
     },
     "execution_count": 5,
     "metadata": {},
     "output_type": "execute_result"
    }
   ],
   "source": [
    "bacon = [3.14, 'cat', 11, 'cat', True]\n",
    "bacon.index('cat')"
   ]
  },
  {
   "cell_type": "markdown",
   "id": "5ff10a56",
   "metadata": {},
   "source": [
    "________________________________________________________________________________________________________________________________\n",
    "7. How does bacon.append(99) change the look of the list value in bacon?\n",
    "\n",
    "     The bacon.append(99) statement will add the value 99 to the end of the bacon list"
   ]
  },
  {
   "cell_type": "code",
   "execution_count": 6,
   "id": "76a1e124",
   "metadata": {},
   "outputs": [
    {
     "name": "stdout",
     "output_type": "stream",
     "text": [
      "[3.14, 'cat', 11, 'cat', True, 99]\n"
     ]
    }
   ],
   "source": [
    "bacon = [3.14, 'cat', 11, 'cat', True]\n",
    "bacon.append(99)\n",
    "print(bacon)"
   ]
  },
  {
   "cell_type": "markdown",
   "id": "4ab243f0",
   "metadata": {},
   "source": [
    "________________________________________________________________________________________________________________________________\n",
    "8. How does bacon.remove('cat') change the look of the list in bacon?\n",
    "        The bacon.remove('cat') will remove first occurrence of the string 'cat' in the list. The list will look like\n",
    "    bacon = [3.14, 11, 'cat', True, 99]"
   ]
  },
  {
   "cell_type": "code",
   "execution_count": 7,
   "id": "d6c6deb2",
   "metadata": {},
   "outputs": [
    {
     "name": "stdout",
     "output_type": "stream",
     "text": [
      "[3.14, 11, 'cat', True, 99]\n"
     ]
    }
   ],
   "source": [
    "bacon.remove('cat')\n",
    "print(bacon)"
   ]
  },
  {
   "cell_type": "markdown",
   "id": "f0cecb01",
   "metadata": {},
   "source": [
    "________________________________________________________________________________________________________________________________\n",
    "9. What are the list concatenation and list replication operators?\n",
    "        list concatenation operator is +, and the list replication operator is *."
   ]
  },
  {
   "cell_type": "code",
   "execution_count": 8,
   "id": "c19fb8ba",
   "metadata": {},
   "outputs": [
    {
     "data": {
      "text/plain": [
       "['a', 'b', 'c', 'd', 'e', 'f']"
      ]
     },
     "execution_count": 8,
     "metadata": {},
     "output_type": "execute_result"
    }
   ],
   "source": [
    "a2c = ['a', 'b', 'c']\n",
    "d2f = ['d', 'e', 'f']\n",
    "\n",
    "#list concatenation\n",
    "list_concatenation = a2c + d2f\n",
    "list_concatenation"
   ]
  },
  {
   "cell_type": "code",
   "execution_count": 9,
   "id": "ac4f3a57",
   "metadata": {},
   "outputs": [
    {
     "data": {
      "text/plain": [
       "['a', 'b', 'c', 'a', 'b', 'c']"
      ]
     },
     "execution_count": 9,
     "metadata": {},
     "output_type": "execute_result"
    }
   ],
   "source": [
    "#list replication\n",
    "list_replication = a2c * 2\n",
    "list_replication"
   ]
  },
  {
   "cell_type": "markdown",
   "id": "65a06046",
   "metadata": {},
   "source": [
    "10. What is difference between the list methods append() and insert()?\n",
    "          append(value) adds the value to the end of the list\n",
    "          insert(index, value) add value at the index mentioned"
   ]
  },
  {
   "cell_type": "code",
   "execution_count": 38,
   "id": "53edc569",
   "metadata": {},
   "outputs": [
    {
     "name": "stdout",
     "output_type": "stream",
     "text": [
      "[1, 2, 3, 4]\n",
      "['a', 1, 'b', 2, 'c', 3, 'z']\n"
     ]
    }
   ],
   "source": [
    "#append()\n",
    "numbers_list = [1, 2, 3]\n",
    "numbers_list.append(4)\n",
    "print(numbers_list)\n",
    "\n",
    "#insert()\n",
    "alphanumeric_list = ['a', 1, 'b', 2, 'c', 3]\n",
    "alphanumeric_list.insert(6, 'z')\n",
    "print(alphanumeric_list)"
   ]
  },
  {
   "cell_type": "markdown",
   "id": "9e3775e3",
   "metadata": {},
   "source": [
    "________________________________________________________________________________________________________________________________\n",
    "11. What are the two methods for removing items from a list?\n",
    "            remove() method removes the first occurrence of a specified value from the list\n",
    "            pop() method removes an element from a specific index in the list, and it returns the removed value."
   ]
  },
  {
   "cell_type": "code",
   "execution_count": 11,
   "id": "2430647f",
   "metadata": {},
   "outputs": [
    {
     "name": "stdout",
     "output_type": "stream",
     "text": [
      "['banana', 'watermelon']\n",
      "mean\n",
      "['median', 'mode']\n"
     ]
    }
   ],
   "source": [
    "#remove method\n",
    "fruits = ['apple', 'banana', 'watermelon']\n",
    "fruits.remove('apple')\n",
    "print(fruits)\n",
    "\n",
    "#pop method\n",
    "Central_tendency = ['mean', 'median', 'mode']\n",
    "removed_value = Central_tendency.pop(0)\n",
    "\n",
    "print(removed_value)\n",
    "print(Central_tendency)"
   ]
  },
  {
   "cell_type": "markdown",
   "id": "eab451f7",
   "metadata": {},
   "source": [
    "________________________________________________________________________________________________________________________________\n",
    "12. Describe how list values and string values are identical.\n",
    "\n",
    "        Both list and string values can be accessed using index values, support concatenation, replication and slicing."
   ]
  },
  {
   "cell_type": "code",
   "execution_count": 39,
   "id": "ed747b71",
   "metadata": {},
   "outputs": [
    {
     "name": "stdout",
     "output_type": "stream",
     "text": [
      "Indexing of list: Time\n",
      "Indexing of string: o\n",
      "Slicing of list: ['Hello', 'World!']\n",
      "Slicing of string: Hello World!\n",
      "Concatenation of list: ['a', 'b', 'c', 'd', 'e', 'f']\n",
      "Concatenation of string: Hello World\n",
      "Replication of list: ['a', 'b', 'c', 'a', 'b', 'c']\n",
      "Replication of string: HelloHello\n"
     ]
    }
   ],
   "source": [
    "HW_list = [\"Hello\", \"World!\", \"Time\", \"is\", 12]\n",
    "HW_string = \"Hello World! Time is  12\"\n",
    "\n",
    "#indexing\n",
    "print(f\"Indexing of list: {HW_list[2]}\")\n",
    "print(f\"Indexing of string: {HW_string[4]}\")\n",
    "\n",
    "#slicing\n",
    "print(f\"Slicing of list: {HW_list[0:2]}\")\n",
    "print(f\"Slicing of string: {HW_string[0:12]}\")\n",
    "\n",
    "#concatenation\n",
    "a2c = ['a', 'b', 'c']\n",
    "d2f = ['d', 'e', 'f']\n",
    "string1 = \"Hello\"\n",
    "string2 = \"World\"\n",
    "\n",
    "#list concatenation\n",
    "list_concatenation = a2c + d2f\n",
    "print(f\"Concatenation of list: {list_concatenation}\")\n",
    "\n",
    "#string concatenation\n",
    "string_concat = string1+ \" \" +string2\n",
    "print(f\"Concatenation of string: {string_concat}\")\n",
    "\n",
    "#Replication\n",
    "list_replication = a2c *2\n",
    "string_replication= string1 *2\n",
    "\n",
    "print(f\"Replication of list: {list_replication}\")\n",
    "print(f\"Replication of string: {string_replication}\")"
   ]
  },
  {
   "cell_type": "markdown",
   "id": "df4ebb2f",
   "metadata": {},
   "source": [
    "________________________________________________________________________________________________________________________________\n",
    "13. What's the difference between tuples and lists?\n",
    "        Lists are mutable, uses square brackets. Append, remove, extend methods work with lists\n",
    "        Tuples are immutable, uses parantheses. Count and index methods work with tuples"
   ]
  },
  {
   "cell_type": "markdown",
   "id": "3acde549",
   "metadata": {},
   "source": [
    "________________________________________________________________________________________________________________________________\n",
    "14. How do you type a tuple value that only contains the integer 42?"
   ]
  },
  {
   "cell_type": "code",
   "execution_count": 14,
   "id": "82d44279",
   "metadata": {},
   "outputs": [
    {
     "data": {
      "text/plain": [
       "'42'"
      ]
     },
     "execution_count": 14,
     "metadata": {},
     "output_type": "execute_result"
    }
   ],
   "source": [
    "tuple1 = ('42')\n",
    "tuple1"
   ]
  },
  {
   "cell_type": "markdown",
   "id": "016ba03d",
   "metadata": {},
   "source": [
    "________________________________________________________________________________________________________________________________\n",
    "15. How do you get a list value's tuple form? How do you get a tuple value's list form?\n",
    "\n",
    "  To convert list to tuple and viceversa, tuple() and list() functions can be used"
   ]
  },
  {
   "cell_type": "code",
   "execution_count": 35,
   "id": "5f9380fd",
   "metadata": {},
   "outputs": [
    {
     "name": "stdout",
     "output_type": "stream",
     "text": [
      "(1, 2, 3, 4)\n"
     ]
    }
   ],
   "source": [
    "one2four = [1, 2, 3, 4]\n",
    "tuple_1 = tuple(one2four)\n",
    "print(tuple_1)"
   ]
  },
  {
   "cell_type": "code",
   "execution_count": 36,
   "id": "eed31420",
   "metadata": {},
   "outputs": [
    {
     "name": "stdout",
     "output_type": "stream",
     "text": [
      "['carrot', 'brinjal', 'capsicum']\n"
     ]
    }
   ],
   "source": [
    "vegetables = ('carrot', 'brinjal', 'capsicum')\n",
    "vegetables_list = list(vegetables)\n",
    "print(vegetables_list)"
   ]
  },
  {
   "cell_type": "markdown",
   "id": "e10f0deb",
   "metadata": {},
   "source": [
    "________________________________________________________________________________________________________________________________\n",
    "\n",
    "16. Variables that \"contain\" list values are not necessarily lists themselves. Instead, what do they contain?\n",
    "\n",
    "           The variable holds a reference to the memory location where the list is stored"
   ]
  },
  {
   "cell_type": "code",
   "execution_count": null,
   "id": "a9e8ab87",
   "metadata": {},
   "outputs": [],
   "source": [
    "________________________________________________________________________________________________________________________________\n",
    "\n",
    "17. How do you distinguish between copy.copy() and copy.deepcopy()?\n",
    "\n",
    "        The copy() returns a shallow copy of the list, and deepcopy() returns a deep copy of the list.\n",
    "        Changes to nested objects in the original list are reflected in the shallow copy.\n",
    "        Changes to nested objects in the original list do not affect the deep copy"
   ]
  },
  {
   "cell_type": "code",
   "execution_count": 33,
   "id": "0d32898e",
   "metadata": {},
   "outputs": [
    {
     "name": "stdout",
     "output_type": "stream",
     "text": [
      "[1, ['X', 3], 4]\n"
     ]
    }
   ],
   "source": [
    "import copy\n",
    "#shallow copy\n",
    "original_list_1 = [1, [2, 3], 4]\n",
    "shallow_copy = copy.copy(original_list_1)\n",
    "\n",
    "original_list_1[1][0] = 'X'\n",
    "print(shallow_copy) "
   ]
  },
  {
   "cell_type": "code",
   "execution_count": 34,
   "id": "10ca6583",
   "metadata": {},
   "outputs": [
    {
     "name": "stdout",
     "output_type": "stream",
     "text": [
      "[1, [2, 3], 4]\n"
     ]
    }
   ],
   "source": [
    "import copy\n",
    "#deep copy\n",
    "original_list_2 = [1, [2, 3], 4]\n",
    "deep_copy = copy.deepcopy(original_list_2)\n",
    "\n",
    "original_list_2[1][0] = 'X'\n",
    "print(deep_copy)  "
   ]
  }
 ],
 "metadata": {
  "kernelspec": {
   "display_name": "Python 3 (ipykernel)",
   "language": "python",
   "name": "python3"
  },
  "language_info": {
   "codemirror_mode": {
    "name": "ipython",
    "version": 3
   },
   "file_extension": ".py",
   "mimetype": "text/x-python",
   "name": "python",
   "nbconvert_exporter": "python",
   "pygments_lexer": "ipython3",
   "version": "3.9.13"
  }
 },
 "nbformat": 4,
 "nbformat_minor": 5
}
