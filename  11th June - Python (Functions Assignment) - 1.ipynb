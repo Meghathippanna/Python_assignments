{
 "cells": [
  {
   "cell_type": "markdown",
   "id": "7057da04-123b-46a9-8836-dc5d83587a9c",
   "metadata": {},
   "source": [
    "11th June - Python (Functions Assignment) - 1"
   ]
  },
  {
   "cell_type": "markdown",
   "id": "aca2b80c-35c9-48cf-9b16-d4a14394d089",
   "metadata": {},
   "source": [
    "1. What is a lambda function in Python, and how does it differ from a regular function?\n",
    "\n",
    "Lambda functions in python are used to create a small, anonymous function. This function can have any number of arguments but only one expression.\n",
    "\n",
    "They are different from regular functions because of the following reasons:\n",
    "\n",
    "    --> Unlike regular functions, lambda functions takes only one expression \n",
    "\n",
    "    --> Loops cannot be in used in lambda function\n",
    "\n",
    "    --> Cannot take user input \n",
    "\n",
    "    --> They are defined using the lambda keyword, followed by a list of arguments, a colon, and an expression. Regular functions are defined using the def keyword, followed by a function name, a list of parameters in parentheses, a colon, and a block of code\n",
    "\n",
    "    --> Lambda functions return the result of the expression, and there is no requirement of return statement\n",
    "\n",
    "Advantages: Lambda functions are typically used for short, concise, one-time operations"
   ]
  },
  {
   "cell_type": "markdown",
   "id": "365567a5-64c7-4350-87fc-05fdde7a9280",
   "metadata": {},
   "source": [
    "2. Can a lambda function in Python have multiple arguments? If yes, how can you define and use\n",
    "them?\n",
    "\n",
    "Lambda functions can have multiple arguments  but only one expression"
   ]
  },
  {
   "cell_type": "code",
   "execution_count": 60,
   "id": "2ab5389d-4bbf-4e7e-9810-57a8f5e4d429",
   "metadata": {},
   "outputs": [
    {
     "data": {
      "text/plain": [
       "27"
      ]
     },
     "execution_count": 60,
     "metadata": {},
     "output_type": "execute_result"
    }
   ],
   "source": [
    "#Example of multiple arguments in lambda function\n",
    "add= lambda x, y, z, a, b, c: x+y+z+a+b+c\n",
    "add(2, 3, 4, 5, 6, 7)"
   ]
  },
  {
   "cell_type": "markdown",
   "id": "fc46a217-8f63-48b3-9721-c34adf7f5cb2",
   "metadata": {},
   "source": [
    "3. How are lambda functions typically used in Python? Provide an example use case.\n",
    "    \n",
    "Lambda functions in Python are commonly used in scenarios where a small, anonymous function is required for a short time. \n",
    "\n",
    "-->useful when you need to pass a simple function as an argument to another function"
   ]
  },
  {
   "cell_type": "code",
   "execution_count": 61,
   "id": "bf519715-f651-42e9-b289-66405451b64b",
   "metadata": {},
   "outputs": [
    {
     "name": "stdout",
     "output_type": "stream",
     "text": [
      "[1, 4, 9, 16, 25]\n"
     ]
    }
   ],
   "source": [
    "numbers = [1, 2, 3, 4, 5]\n",
    "squared_numbers = list(map(lambda x: x ** 2, numbers))\n",
    "print(squared_numbers)"
   ]
  },
  {
   "cell_type": "markdown",
   "id": "528426bf-6dbc-4d69-ba96-a8dd2ee63862",
   "metadata": {},
   "source": [
    "4. What are the advantages and limitations of lambda functions compared to regular functions in\n",
    "Python?\n",
    "\n",
    "    ADVANTAGES:\n",
    "   \n",
    "        --> short, concise, one-time operations\n",
    "   \n",
    "        --> directly use where functions are expected as arguments, such as with higher-order functions like map(), filter(), and sorted()\n",
    "   \n",
    "    LIMITATIONS:\n",
    "   \n",
    "        --> Cannot take user input\n",
    "   \n",
    "        --> Loops cannot be used in the lambda function\n",
    "   \n",
    "        --> lambda functions takes only one expression"
   ]
  },
  {
   "cell_type": "markdown",
   "id": "940cf6ad-b9e2-47f0-8a5c-fd68054e20c2",
   "metadata": {},
   "source": [
    "5. Are lambda functions in Python able to access variables defined outside of their own scope? Explain with an example.\n",
    "\n",
    "yes"
   ]
  },
  {
   "cell_type": "code",
   "execution_count": 62,
   "id": "94bccc7f-0ee9-4aa6-a3f4-cce4ab00dd34",
   "metadata": {},
   "outputs": [
    {
     "data": {
      "text/plain": [
       "12"
      ]
     },
     "execution_count": 62,
     "metadata": {},
     "output_type": "execute_result"
    }
   ],
   "source": [
    "b = 3\n",
    "def outer_function():\n",
    "    c = 4\n",
    "    lambda_function = lambda y: b + y + c\n",
    "    return lambda_function\n",
    "\n",
    "# Call outer_function to get the lambda_function\n",
    "lf =outer_function()\n",
    "lf(5)"
   ]
  },
  {
   "cell_type": "markdown",
   "id": "25c376a4-5c93-4841-9b07-242072ea77b7",
   "metadata": {},
   "source": [
    "6. Write a lambda function to calculate the square of a given number."
   ]
  },
  {
   "cell_type": "code",
   "execution_count": 63,
   "id": "0540ecae-5eea-4bab-9cc6-acdd73905a8b",
   "metadata": {},
   "outputs": [
    {
     "data": {
      "text/plain": [
       "25"
      ]
     },
     "execution_count": 63,
     "metadata": {},
     "output_type": "execute_result"
    }
   ],
   "source": [
    "#lambda arguments: expression\n",
    "square = lambda x: x**2\n",
    "square(5)"
   ]
  },
  {
   "cell_type": "markdown",
   "id": "5f1848ef-d901-447a-a0ae-9a1ebe16f7e5",
   "metadata": {},
   "source": [
    "7. Create a lambda function to find the maximum value in a list of integers."
   ]
  },
  {
   "cell_type": "code",
   "execution_count": 64,
   "id": "99ce2aa9-84b0-4d1a-99ad-3037130fb61e",
   "metadata": {},
   "outputs": [
    {
     "data": {
      "text/plain": [
       "19"
      ]
     },
     "execution_count": 64,
     "metadata": {},
     "output_type": "execute_result"
    }
   ],
   "source": [
    "number_list = [19, 3, 5, 7, 8, 12]\n",
    "find_max = lambda x: max(x)\n",
    "find_max(number_list)"
   ]
  },
  {
   "cell_type": "markdown",
   "id": "9b4f69d0-e3ec-4b3f-8dfe-8d989454dcda",
   "metadata": {},
   "source": [
    "8. Implement a lambda function to filter out all the even numbers from a list of integers."
   ]
  },
  {
   "cell_type": "code",
   "execution_count": 65,
   "id": "9d40f929-0ccc-497f-a40c-ba2ce0a5cce0",
   "metadata": {},
   "outputs": [
    {
     "name": "stdout",
     "output_type": "stream",
     "text": [
      "[8, 12]\n"
     ]
    }
   ],
   "source": [
    "number_list = [19, 3, 5, 7, 8, 12]\n",
    "find_even_num = list(filter(lambda x: x % 2 == 0, number_list))\n",
    "print(find_even_num)"
   ]
  },
  {
   "cell_type": "markdown",
   "id": "55f567f1-5bef-4dc3-ad59-fc1648a22c98",
   "metadata": {},
   "source": [
    "9. Write a lambda function to sort a list of strings in ascending order based on the length of each string."
   ]
  },
  {
   "cell_type": "code",
   "execution_count": 66,
   "id": "315eec58-e427-425e-9788-e2af50f95762",
   "metadata": {},
   "outputs": [
    {
     "name": "stdout",
     "output_type": "stream",
     "text": [
      "['SD', 'Mean', 'Mode', 'Median', 'IQRange', 'Variation']\n"
     ]
    }
   ],
   "source": [
    "string_list = ['Mean', 'Mode', 'Median', 'Variation', 'SD', 'IQRange']\n",
    "sorted_strings = sorted(string_list, key=lambda x: len(x))\n",
    "print(sorted_strings)"
   ]
  },
  {
   "cell_type": "markdown",
   "id": "bd1e27e0-579d-4ad0-aaec-243639dd0ead",
   "metadata": {},
   "source": [
    "10. Create a lambda function that takes two lists as input and returns a new list containing the common elements between the two lists."
   ]
  },
  {
   "cell_type": "code",
   "execution_count": 67,
   "id": "a4275e9c-7fa1-4f56-b2ff-62997c876b16",
   "metadata": {},
   "outputs": [
    {
     "data": {
      "text/plain": [
       "[3, 5]"
      ]
     },
     "execution_count": 67,
     "metadata": {},
     "output_type": "execute_result"
    }
   ],
   "source": [
    "numbers = [1, 2, 3, 4, 5, 234, 54]\n",
    "number_list = [19, 3, 5, 7, 8, 12]\n",
    "\n",
    "two_lists = lambda a,b: list(filter(lambda x: x in a, b))\n",
    "two_lists(numbers, number_list)"
   ]
  },
  {
   "cell_type": "markdown",
   "id": "3213eb04-21fc-40c3-885b-615110e9686e",
   "metadata": {},
   "source": [
    "11. Write a recursive function to calculate the factorial of a given positive integer."
   ]
  },
  {
   "cell_type": "code",
   "execution_count": 68,
   "id": "d8b91e60-94af-4a13-9831-cbb7cf041985",
   "metadata": {},
   "outputs": [
    {
     "data": {
      "text/plain": [
       "120"
      ]
     },
     "execution_count": 68,
     "metadata": {},
     "output_type": "execute_result"
    }
   ],
   "source": [
    "def factorial(n):\n",
    "    if n == 0 or n == 1:\n",
    "        return 1\n",
    "    else:\n",
    "        return n * factorial(n-1)\n",
    "\n",
    "factorial(5)"
   ]
  },
  {
   "cell_type": "markdown",
   "id": "0a8800b6-28d5-4554-8f01-3555e25f1f44",
   "metadata": {},
   "source": [
    "12. Implement a recursive function to compute the nth Fibonacci number."
   ]
  },
  {
   "cell_type": "code",
   "execution_count": 69,
   "id": "564789fa-9e63-4b6b-9a7c-4597090bb8bd",
   "metadata": {},
   "outputs": [
    {
     "name": "stdout",
     "output_type": "stream",
     "text": [
      "0\n",
      "1\n",
      "1\n",
      "2\n",
      "3\n",
      "5\n",
      "8\n",
      "13\n",
      "21\n",
      "34\n"
     ]
    }
   ],
   "source": [
    "def recursive_fun(n):\n",
    "    if n <= 1:\n",
    "        return n\n",
    "    else:\n",
    "        return (recursive_fun(n-1)+recursive_fun(n-2))\n",
    "\n",
    "n_terms = 10\n",
    "for i in range(n_terms):\n",
    "    print(recursive_fun(i))"
   ]
  },
  {
   "cell_type": "markdown",
   "id": "7c0cea9d-07fd-4d1e-b89d-5af504c67fad",
   "metadata": {},
   "source": [
    "13. Create a recursive function to find the sum of all the elements in a given list."
   ]
  },
  {
   "cell_type": "code",
   "execution_count": 70,
   "id": "be954251-e8d7-4691-9d10-bc9db9fded74",
   "metadata": {},
   "outputs": [
    {
     "data": {
      "text/plain": [
       "16"
      ]
     },
     "execution_count": 70,
     "metadata": {},
     "output_type": "execute_result"
    }
   ],
   "source": [
    "def recursive_sum(list1):\n",
    "    if len(list1) == 0:\n",
    "        return 0\n",
    "    else:\n",
    "        return list1[0] + recursive_sum(list1[1:])\n",
    "\n",
    "list2= [1, 2, 3, 4, 6]\n",
    "recursive_sum(list2)"
   ]
  },
  {
   "cell_type": "markdown",
   "id": "3ae78a47-d975-432a-b91c-8f9a3044a263",
   "metadata": {},
   "source": [
    "14. Write a recursive function to determine whether a given string is a palindrome."
   ]
  },
  {
   "cell_type": "code",
   "execution_count": 8,
   "id": "e57996b2-0d2e-4300-96bf-3cfb23ad2ebb",
   "metadata": {},
   "outputs": [
    {
     "data": {
      "text/plain": [
       "True"
      ]
     },
     "execution_count": 8,
     "metadata": {},
     "output_type": "execute_result"
    }
   ],
   "source": [
    "def palindrome_func(s):\n",
    "    if len(s) <= 1:\n",
    "        return True\n",
    "    else:\n",
    "        return s[0] == s[-1] and palindrome_func(s[1:-1])\n",
    "\n",
    "palindrome_func(\"racecar\")"
   ]
  },
  {
   "cell_type": "markdown",
   "id": "37818d32-9083-488d-9675-e19eeb4d43d5",
   "metadata": {},
   "source": [
    "15. Implement a recursive function to find the greatest common divisor (GCD) of two positive integers."
   ]
  },
  {
   "cell_type": "code",
   "execution_count": 9,
   "id": "019fd56d-5752-4fd0-a0f5-4719e1328516",
   "metadata": {},
   "outputs": [
    {
     "name": "stdout",
     "output_type": "stream",
     "text": [
      "GCD of 48 and 18 is 6\n"
     ]
    }
   ],
   "source": [
    "def gcd(a, b):\n",
    "    if b == 0:\n",
    "        return a\n",
    "    else:\n",
    "        return gcd(b, a % b)\n",
    "\n",
    "# Example usage:\n",
    "num1 = 48\n",
    "num2 = 18\n",
    "print(\"GCD of\", num1, \"and\", num2, \"is\", gcd(num1, num2))\n",
    "\n"
   ]
  }
 ],
 "metadata": {
  "kernelspec": {
   "display_name": "Python 3 (ipykernel)",
   "language": "python",
   "name": "python3"
  },
  "language_info": {
   "codemirror_mode": {
    "name": "ipython",
    "version": 3
   },
   "file_extension": ".py",
   "mimetype": "text/x-python",
   "name": "python",
   "nbconvert_exporter": "python",
   "pygments_lexer": "ipython3",
   "version": "3.11.5"
  }
 },
 "nbformat": 4,
 "nbformat_minor": 5
}
