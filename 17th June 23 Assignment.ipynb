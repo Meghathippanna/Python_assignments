{
 "cells": [
  {
   "cell_type": "markdown",
   "id": "a6e752d1-9985-48a4-a995-22800e7f236a",
   "metadata": {},
   "source": [
    "1. What is the role of try and exception block?\n",
    "\n",
    "When an error occurs python stops and generates error messages. These errors or expections can be handled using try and exception block,  and is called exception handling.\n",
    "\n",
    "Try block : The code that might cause an exception/error is placed within the try block. \n",
    "\n",
    "Except block: This block contains code that specifies how to handle the exception/errors"
   ]
  },
  {
   "cell_type": "markdown",
   "id": "7a378561-8f19-451b-a33b-5fb7e7796561",
   "metadata": {},
   "source": [
    "2. What is the syntax for a basic try-except block?\n"
   ]
  },
  {
   "cell_type": "code",
   "execution_count": 26,
   "id": "9041d4cb-8f84-42be-8484-ef80250addf8",
   "metadata": {},
   "outputs": [
    {
     "name": "stdout",
     "output_type": "stream",
     "text": [
      "Assign a value to z\n",
      ":)\n"
     ]
    }
   ],
   "source": [
    "try:\n",
    "    print(z)\n",
    "except NameError :\n",
    "    print(\"Assign a value to z\")\n",
    "else: \n",
    "    print(\"Everything looks fine\")\n",
    "finally:\n",
    "    print(\":)\")    "
   ]
  },
  {
   "cell_type": "markdown",
   "id": "808ea965-4cfb-47fd-b02f-069bff6ceba0",
   "metadata": {},
   "source": [
    "3. What happens if an exception occurs inside a try block and there is no matching\n",
    "except block?\n",
    "\n",
    "    The program will terminate and error will be displayed to the user"
   ]
  },
  {
   "cell_type": "code",
   "execution_count": 27,
   "id": "cb339ee6-ffec-4c80-acde-763cd7ac676e",
   "metadata": {},
   "outputs": [
    {
     "ename": "TypeError",
     "evalue": "'<' not supported between instances of 'str' and 'int'",
     "output_type": "error",
     "traceback": [
      "\u001b[1;31m---------------------------------------------------------------------------\u001b[0m",
      "\u001b[1;31mTypeError\u001b[0m                                 Traceback (most recent call last)",
      "Cell \u001b[1;32mIn[27], line 3\u001b[0m\n\u001b[0;32m      1\u001b[0m \u001b[38;5;28;01mtry\u001b[39;00m:\n\u001b[0;32m      2\u001b[0m     x\u001b[38;5;241m=\u001b[39m\u001b[38;5;124m\"\u001b[39m\u001b[38;5;124m%\u001b[39m\u001b[38;5;124m\"\u001b[39m\n\u001b[1;32m----> 3\u001b[0m     \u001b[38;5;28;01mif\u001b[39;00m x\u001b[38;5;241m<\u001b[39m\u001b[38;5;241m5\u001b[39m:\n\u001b[0;32m      4\u001b[0m         \u001b[38;5;28mprint\u001b[39m(\u001b[38;5;124m\"\u001b[39m\u001b[38;5;124mX is greater than 5\u001b[39m\u001b[38;5;124m\"\u001b[39m)\n\u001b[0;32m      5\u001b[0m \u001b[38;5;28;01mexcept\u001b[39;00m \u001b[38;5;167;01mNameError\u001b[39;00m:\n",
      "\u001b[1;31mTypeError\u001b[0m: '<' not supported between instances of 'str' and 'int'"
     ]
    }
   ],
   "source": [
    "try:\n",
    "    x=\"%\"\n",
    "    if x<5:\n",
    "        print(\"X is greater than 5\")\n",
    "except NameError:\n",
    "    print(\"You cannot use alphabets as a value of x\")"
   ]
  },
  {
   "cell_type": "markdown",
   "id": "2b3a22a1-b401-4eec-812a-01e0ed70a76c",
   "metadata": {},
   "source": [
    "4. What is the difference between using a bare except block and specifying a specific\n",
    "exception type?\n",
    "\n",
    "Bare except block: A bare except block catches all exceptions that occur within its corresponding try block\n",
    "\n",
    "Specifying a exception: When you specify a specific exception type, you're targeting only that particular type of exception.\n"
   ]
  },
  {
   "cell_type": "code",
   "execution_count": 29,
   "id": "3f4007a3-8cca-47a2-bc05-058066a63ec5",
   "metadata": {},
   "outputs": [
    {
     "name": "stdout",
     "output_type": "stream",
     "text": [
      "An error\n"
     ]
    }
   ],
   "source": [
    "try:\n",
    "    x=\"%\"\n",
    "    if x<5:\n",
    "        print(\"X is greater than 5\")\n",
    "#specifying a specific exception\n",
    "except NameError:\n",
    "    print(\"You cannot use alphabets as a value of x\")\n",
    "#Bare except block\n",
    "except:\n",
    "    print(\"An error\")"
   ]
  },
  {
   "cell_type": "markdown",
   "id": "72ddc151-4715-46cd-9080-4e0af57c218d",
   "metadata": {},
   "source": [
    "5. Can you have nested try-except blocks in Python? If yes, then give an example.\n",
    "\n",
    "Yes"
   ]
  },
  {
   "cell_type": "code",
   "execution_count": 31,
   "id": "06ea2b9e-2c39-4f67-beac-18ed6c194a72",
   "metadata": {},
   "outputs": [
    {
     "name": "stdin",
     "output_type": "stream",
     "text": [
      "Enter your age:  12\n"
     ]
    },
    {
     "name": "stdout",
     "output_type": "stream",
     "text": [
      "You don't have access\n"
     ]
    }
   ],
   "source": [
    "try:\n",
    "    # Outer try block\n",
    "    age = int(input(\"Enter your age: \"))\n",
    "    \n",
    "    try:\n",
    "        # Nested block\n",
    "        if age < 0:\n",
    "            raise ValueError(\"Age cannot be negative\")\n",
    "        elif age < 18:\n",
    "            print(\"You don't have access\")\n",
    "        else:\n",
    "            print(\"You have access\")\n",
    "            \n",
    "    except ValueError as ve:\n",
    "        print(\"Invalid input:\", ve)\n",
    "    \n",
    "except Exception as e:\n",
    "    # Outer except block\n",
    "    print(\"An error occurred:\", e)\n",
    "\n"
   ]
  },
  {
   "cell_type": "markdown",
   "id": "fc2c3b76-c223-439e-b105-2aa7561ffc32",
   "metadata": {},
   "source": [
    "6. Can we use multiple exception blocks, if yes then give an example.\n",
    "\n",
    "Yes"
   ]
  },
  {
   "cell_type": "code",
   "execution_count": 32,
   "id": "1dd85a5f-92e7-4446-88b1-d18d90f3cebd",
   "metadata": {},
   "outputs": [
    {
     "name": "stdin",
     "output_type": "stream",
     "text": [
      "Enter a number:  uyfku\n"
     ]
    },
    {
     "name": "stdout",
     "output_type": "stream",
     "text": [
      "Invalid input. Please enter a valid integer.\n"
     ]
    }
   ],
   "source": [
    "try:\n",
    "    x = int(input(\"Enter a number: \"))\n",
    "    result = 10 / x\n",
    "    print(\"Result:\", result)\n",
    "except ValueError:\n",
    "    print(\"Invalid input. Please enter a valid integer.\")\n",
    "except ZeroDivisionError:\n",
    "    print(\"Cannot divide by zero. Please enter a non-zero number.\")\n",
    "except Exception as e:\n",
    "    print(\"An unexpected error occurred:\", e)\n"
   ]
  },
  {
   "cell_type": "markdown",
   "id": "ea8e8b63-b718-4517-b0ba-cc7e987357fd",
   "metadata": {},
   "source": [
    "7. Write the reason due to which following errors are raised:\n",
    "\n",
    "a. EOFError: EOFError is raised when one of the built-in functions input() or raw_input() hits an end-of-file condition (EOF) without reading any data\n",
    "\n",
    "b. FloatingPointError: Raised when a floating-point operation (e.g., division or exponentiation) results in an error, such as division by zero or an operation that exceeds the limits of floating-point representation\n",
    "\n",
    "c. IndexError: Raised when trying to access an index in a sequence (such as a list, tuple, or string) that does not exist\n",
    "\n",
    "d. MemoryError: occurs when where the memory of the RAM we are using could not support the execution of our code\n",
    "\n",
    "e. OverflowError: Raised when a mathematical operation exceeds the limits of the numeric type being used. For example, trying to store a value larger than the maximum representable value for a numeric type.\n",
    "                                                                                                                                                                                          \n",
    "f. TabError: Raised when inconsistent use of tabs and spaces is encountered in indentation\n",
    "                                                                                                                                                                                          \n",
    "g. ValueError: Raised when a built-in operation or function receives an argument with the correct type but an inappropriate value\n"
   ]
  },
  {
   "cell_type": "code",
   "execution_count": null,
   "id": "b25f2eb2-f614-427e-be0b-845549da6e27",
   "metadata": {},
   "outputs": [],
   "source": [
    "8. Write code for the following given scenario and add try-exception block to it.\n",
    "a. Program to divide two numbers\n",
    "b. Program to convert a string to an integer\n",
    "c. Program to access an element in a list\n",
    "d. Program to handle a specific exception\n",
    "e. Program to handle any exception"
   ]
  },
  {
   "cell_type": "code",
   "execution_count": 33,
   "id": "99b3c2ce-c3b9-4fca-aaad-57b51175de45",
   "metadata": {},
   "outputs": [
    {
     "name": "stdin",
     "output_type": "stream",
     "text": [
      "Enter first number=  12\n",
      "Enter second number=  13.12\n"
     ]
    },
    {
     "name": "stdout",
     "output_type": "stream",
     "text": [
      "Takes only integer and not decimal numbers\n"
     ]
    }
   ],
   "source": [
    "#a. Program to divide two numbers\n",
    "def divide():\n",
    "    x = input(\"Enter first number= \")\n",
    "    y = input(\"Enter second number= \")\n",
    "    try:\n",
    "        division= int(x)/int(y)\n",
    "        print(division)\n",
    "    except ZeroDivisionError:\n",
    "        print (\"You cannot divide by zero\")\n",
    "    except ValueError:\n",
    "        print (\"Takes only integer and not decimal numbers\")\n",
    "    \n",
    "divide()"
   ]
  },
  {
   "cell_type": "code",
   "execution_count": 42,
   "id": "c3345bac-5a09-4135-a811-73a67bafb17a",
   "metadata": {},
   "outputs": [
    {
     "name": "stdin",
     "output_type": "stream",
     "text": [
      "Enter your string:  adsasg\n"
     ]
    },
    {
     "name": "stdout",
     "output_type": "stream",
     "text": [
      "You cannot convert a word or a decimal number to integer\n"
     ]
    }
   ],
   "source": [
    "#b. Program to convert a string to an integer\n",
    "def strtoint():\n",
    "    string1 = input(\"Enter your string: \" )\n",
    "    try:\n",
    "        result = int(string1)\n",
    "    except ValueError:\n",
    "        print(\"You cannot convert a word or a decimal number to integer\")\n",
    "strtoint()  "
   ]
  },
  {
   "cell_type": "code",
   "execution_count": 37,
   "id": "c12e4d53-8573-4a12-8159-4aae718d592a",
   "metadata": {},
   "outputs": [
    {
     "name": "stdin",
     "output_type": "stream",
     "text": [
      "Enter an index:  7\n"
     ]
    },
    {
     "name": "stdout",
     "output_type": "stream",
     "text": [
      "Index out of range. Please enter a valid index.\n"
     ]
    }
   ],
   "source": [
    "#c. Program to access an element in a list\n",
    "my_list= [\"a\", \"b\", \"c\", \"d\", \"e\", \"f\"]\n",
    "\n",
    "try:\n",
    "    index = int(input(\"Enter an index: \"))\n",
    "    value = my_list[index]\n",
    "    print(\"Value at index {} is: {}\".format(index, value))\n",
    "except IndexError:\n",
    "    print(\"Index out of range. Please enter a valid index.\")\n",
    "except ValueError:\n",
    "    print(\"Please enter a valid integer index.\")"
   ]
  },
  {
   "cell_type": "code",
   "execution_count": 25,
   "id": "94720f0b-e5ec-4696-b8f3-dd601a5a8fcd",
   "metadata": {},
   "outputs": [
    {
     "name": "stdout",
     "output_type": "stream",
     "text": [
      "Cannot divide by zero.\n"
     ]
    }
   ],
   "source": [
    "#d. Program to handle a specific exception\n",
    "try:\n",
    "    x = 10 / 0\n",
    "except ZeroDivisionError:\n",
    "    print(\"Cannot divide by zero.\")"
   ]
  },
  {
   "cell_type": "code",
   "execution_count": 24,
   "id": "5f0781a8-c8d4-44aa-906e-4fa9adba8967",
   "metadata": {},
   "outputs": [
    {
     "name": "stdout",
     "output_type": "stream",
     "text": [
      "Something is wrong\n"
     ]
    }
   ],
   "source": [
    "#e. Program to handle any exception\n",
    "try:\n",
    "    x = 10 / 0\n",
    "except :\n",
    "    print(\"Something is wrong\")\n"
   ]
  }
 ],
 "metadata": {
  "kernelspec": {
   "display_name": "Python 3 (ipykernel)",
   "language": "python",
   "name": "python3"
  },
  "language_info": {
   "codemirror_mode": {
    "name": "ipython",
    "version": 3
   },
   "file_extension": ".py",
   "mimetype": "text/x-python",
   "name": "python",
   "nbconvert_exporter": "python",
   "pygments_lexer": "ipython3",
   "version": "3.11.5"
  }
 },
 "nbformat": 4,
 "nbformat_minor": 5
}
