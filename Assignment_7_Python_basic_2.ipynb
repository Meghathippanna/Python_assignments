{
 "cells": [
  {
   "cell_type": "markdown",
   "id": "e100c1e1-af81-4b78-a57c-f94f976662b2",
   "metadata": {},
   "source": [
    "Assignment- 7 : Python Basic - 2 21 May 2023"
   ]
  },
  {
   "cell_type": "markdown",
   "id": "b52f0875-3b3b-4db9-b5ec-9b69ceaf5f7e",
   "metadata": {},
   "source": [
    "Q.1. Create two int type variables, apply addition, subtraction, division and multiplications\n",
    "and store the results in variables. Then print the data in the following format by calling the\n",
    "variables:\n",
    "\n",
    "First variable is __ & second variable is __.\n",
    "\n",
    "Addition: __ + __ = __\n",
    "\n",
    "Subtraction: __ - __ = __\n",
    "\n",
    "Multiplication: __ * __ = __\n",
    "\n",
    "Division: __ / __ = __"
   ]
  },
  {
   "cell_type": "code",
   "execution_count": 3,
   "id": "f59fe1f4-60c2-47d5-aa18-e08363c61e8c",
   "metadata": {
    "scrolled": true
   },
   "outputs": [
    {
     "name": "stdout",
     "output_type": "stream",
     "text": [
      "First variable is 10 & second variable is 5\n",
      "Addition: 10 + 5 = 15\n",
      "Subtraction: 10 - 5 = 5\n",
      "Multiplication: 10 * 5 = 50\n",
      "Division: 10 / 5 = 2.0\n"
     ]
    }
   ],
   "source": [
    "first_num = 10\n",
    "second_num = 5\n",
    "\n",
    "add_result= first_num + second_num\n",
    "sub_result= first_num - second_num\n",
    "multiply_result= first_num * second_num\n",
    "division_result= first_num / second_num\n",
    "\n",
    "print(f\"First variable is {first_num} & second variable is {second_num}\")\n",
    "print(f\"Addition: {first_num} + {second_num} = {add_result}\")\n",
    "print(f\"Subtraction: {first_num} - {second_num} = {sub_result}\")\n",
    "print(f\"Multiplication: {first_num} * {second_num} = {multiply_result}\")\n",
    "print(f\"Division: {first_num} / {second_num} = {division_result}\")"
   ]
  },
  {
   "cell_type": "markdown",
   "id": "6020d72e-3849-4f3d-bbcb-6e00472a09ac",
   "metadata": {},
   "source": [
    "Q.2. What is the difference between the following operators:\n",
    "(i) ‘/’ & ‘//’\n",
    "(ii) ‘**’ & ‘^’"
   ]
  },
  {
   "cell_type": "markdown",
   "id": "66972e95-6b69-4af6-8bcc-6fb074a8f8c2",
   "metadata": {},
   "source": [
    "(i) ‘/’ & ‘//’\n",
    "\n",
    "    The single forward slash / performs floating-point division. The result will have a decimal part if the division is not exact. \n",
    "\n",
    "    The double forward slash // performs floor division. The result will always be an integer. The result is rounded down to the nearest integer"
   ]
  },
  {
   "cell_type": "code",
   "execution_count": 21,
   "id": "4e840842-6642-4b89-b3c5-0fe2b125c8d1",
   "metadata": {},
   "outputs": [
    {
     "name": "stdout",
     "output_type": "stream",
     "text": [
      "Divisionn 10/3 = 3.3333333333333335\n",
      "Floor division: 10//3= 3\n"
     ]
    }
   ],
   "source": [
    "#divison operator\n",
    "division = 10/3 \n",
    "print(f\"Divisionn 10/3 = {division}\")\n",
    "floor_division = 10//3 \n",
    "print(f\"Floor division: 10//3= {floor_division}\")"
   ]
  },
  {
   "cell_type": "markdown",
   "id": "0e40cfad-a972-48ca-ba1e-4a80c1f86ef4",
   "metadata": {},
   "source": [
    "(ii) ‘**’ & ‘^’\n",
    "\n",
    "** (Exponentiation Operator):\n",
    "\n",
    "        x ** y (Raise x to the power of y)\n",
    "        \n",
    "        used for exponentiation, raising a number to the power of another\n",
    "\n",
    " ^ (Bitwise XOR Operator):\n",
    "\n",
    "        The '^' operator is the bitwise XOR (exclusive OR) operator.\n",
    "\n",
    "        It performs a bitwise XOR operation on the binary representations of two integers.\n",
    "\n",
    "        x ^ y (Perform bitwise XOR between x and y)"
   ]
  },
  {
   "cell_type": "code",
   "execution_count": 30,
   "id": "482fe444-465e-4cfb-993e-b86fc2ff717a",
   "metadata": {},
   "outputs": [
    {
     "data": {
      "text/plain": [
       "8"
      ]
     },
     "execution_count": 30,
     "metadata": {},
     "output_type": "execute_result"
    }
   ],
   "source": [
    "x = 2\n",
    "y = 3\n",
    "x**y\n",
    "# x= 2; \n",
    "# 2 *2*2 = 8 The output should be 8 "
   ]
  },
  {
   "cell_type": "code",
   "execution_count": 31,
   "id": "97710b4a-d18c-4177-8016-9494abf2ff64",
   "metadata": {},
   "outputs": [
    {
     "name": "stdout",
     "output_type": "stream",
     "text": [
      "6\n"
     ]
    }
   ],
   "source": [
    "result = 5 ^ 3  # Bitwise XOR between 5 (binary 101) and 3 (binary 011)\n",
    "print(result)   # Output: 6 (binary 110)\n",
    "#101   (binary representation of 5)\n",
    "#011   (binary representation of 3)\n",
    "#---\n",
    "#110   (Result of bitwise XOR)\n"
   ]
  },
  {
   "cell_type": "markdown",
   "id": "eba0239b-b712-48a3-b13c-facaa1a7e95d",
   "metadata": {},
   "source": [
    "Q.3. List the logical operators.\n",
    "\n",
    "The logical operators are \n",
    "\n",
    "and--> True if both statements are True, \n",
    "\n",
    "or--> True if one statement is True, \n",
    "\n",
    "not--> reverse the results\n"
   ]
  },
  {
   "cell_type": "code",
   "execution_count": 22,
   "id": "aa88e2f8-9e8d-4322-a758-0d06f4f869e5",
   "metadata": {},
   "outputs": [
    {
     "name": "stdout",
     "output_type": "stream",
     "text": [
      "False\n",
      "True\n",
      "True\n"
     ]
    }
   ],
   "source": [
    "x = 5\n",
    "y = 10\n",
    "\n",
    "print((x==y)and (x<y))\n",
    "print((x==y)or (x<y))\n",
    "print(not (x==y))"
   ]
  },
  {
   "cell_type": "markdown",
   "id": "47511155-9c0b-4b33-a50e-d14c5cb2bcc3",
   "metadata": {},
   "source": [
    "Q.4. Explain right shift operator and left shift operator with examples.\n",
    "\n",
    " The right shift (>>) and left shift (<<) operators are bitwise shift operators that perform bit-level shifting on integers. "
   ]
  },
  {
   "cell_type": "markdown",
   "id": "878e38d7-6f77-4754-9862-c2322c54e5ee",
   "metadata": {},
   "source": [
    "Right Shift (>>):\n",
    "\n",
    "The right shift operator shifts the bits of a binary representation to the right by a specified number of positions.\n",
    "The rightmost bits are shifted out, and the leftmost bits are filled with the sign bit (0 for positive numbers, 1 for negative numbers).\n",
    "Syntax: x >> y (Shift the bits of x to the right by y positions)"
   ]
  },
  {
   "cell_type": "code",
   "execution_count": 23,
   "id": "7f4467ea-0d01-4bec-bdcd-5f19c85cb46c",
   "metadata": {},
   "outputs": [
    {
     "data": {
      "text/plain": [
       "2"
      ]
     },
     "execution_count": 23,
     "metadata": {},
     "output_type": "execute_result"
    }
   ],
   "source": [
    "a = 10\n",
    "b = 2\n",
    "a>>b\n",
    "# Method 1 \n",
    "# 10=  1 0 1 0 shifting two position to the right as b = 2\n",
    "#      0 0 1 0 1 1 #ignoring 11 at the end\n",
    "#      0 0 1 0 -->0(8) + 0(4) + 1(2)+ 0(1)\n",
    "#               --> 2\n",
    "# Output should be 2\n",
    "\n",
    "# Method 2\n",
    "# It's equivalent to dividing the number by 2 raised to the power of the shift amount.\n",
    "# x/ y **2\n",
    "# 2 power 2 = 4\n",
    "# 10/4= 2.5\n",
    "# Output should be 2'''"
   ]
  },
  {
   "cell_type": "markdown",
   "id": "ee2dc984-1053-4252-bb4e-86b5aa0d485f",
   "metadata": {},
   "source": [
    "The left shift operator shifts the bits of a binary representation to the left by a specified number of positions.\n",
    "\n",
    "The rightmost bits are filled with zeros, and the leftmost bits are shifted out."
   ]
  },
  {
   "cell_type": "code",
   "execution_count": 24,
   "id": "cc77adaa-2da1-4d29-a263-7ed0aaf1aa61",
   "metadata": {},
   "outputs": [
    {
     "data": {
      "text/plain": [
       "44"
      ]
     },
     "execution_count": 24,
     "metadata": {},
     "output_type": "execute_result"
    }
   ],
   "source": [
    "##Left shift \n",
    "a = 11\n",
    "b = 2\n",
    "a<<b\n",
    "\n",
    "# Method 1 \n",
    "# 11=  1 0 1 1 shifting two position to the left as b = 2\n",
    "#  1 0 1 1 0 0  --> 1(32)+ 0(16) + 1(8) + 1(4) + 0(2) +0(1)\n",
    "#               --> 32+ 0 + 8 +4 +0 +0 = 44\n",
    "# Output should be 44'''\n",
    "\n",
    "# Method 2\n",
    "# It's equivalent to multiplying the number by 2 raised to the power of the shift amount.\n",
    "# x* y**2\n",
    "# 2 power 2 = 4\n",
    "# 11*4= 22\n",
    "# Output should be 44'''"
   ]
  },
  {
   "cell_type": "markdown",
   "id": "1c0a1882-eb98-4e63-bf15-5c430e369969",
   "metadata": {},
   "source": [
    "Q.5. Create a list containing int type data of length 15. Then write a code to check if 10 is\n",
    "present in the list or not."
   ]
  },
  {
   "cell_type": "code",
   "execution_count": 9,
   "id": "85e80244-cadd-4426-8ef1-2c47e6f77e60",
   "metadata": {},
   "outputs": [
    {
     "data": {
      "text/plain": [
       "True"
      ]
     },
     "execution_count": 9,
     "metadata": {},
     "output_type": "execute_result"
    }
   ],
   "source": [
    "list_one = [1, 2, 3, 4, 5, 6, 7, 8, 9, 10, 11, 12, 13, 14, 15]\n",
    "10 in list_one"
   ]
  }
 ],
 "metadata": {
  "kernelspec": {
   "display_name": "Python 3 (ipykernel)",
   "language": "python",
   "name": "python3"
  },
  "language_info": {
   "codemirror_mode": {
    "name": "ipython",
    "version": 3
   },
   "file_extension": ".py",
   "mimetype": "text/x-python",
   "name": "python",
   "nbconvert_exporter": "python",
   "pygments_lexer": "ipython3",
   "version": "3.11.5"
  }
 },
 "nbformat": 4,
 "nbformat_minor": 5
}
