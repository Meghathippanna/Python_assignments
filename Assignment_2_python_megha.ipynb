{
 "cells": [
  {
   "cell_type": "markdown",
   "id": "41a1e74f",
   "metadata": {},
   "source": [
    "# Assignment 2- python"
   ]
  },
  {
   "cell_type": "markdown",
   "id": "0cbe7eee",
   "metadata": {},
   "source": [
    "1.What are the two values of the Boolean data type? How do you write them?\n",
    "\n",
    "        The two values of the Boolean data type is \"True\" or \"False\". These values are commonly used in conditional statements, logical operations, and boolean expressions \n"
   ]
  },
  {
   "cell_type": "markdown",
   "id": "f98c6a12",
   "metadata": {},
   "source": [
    "2. What are the three different types of Boolean operators?\n",
    "\n",
    "        The three different types of Boolean operators are: and , or, not\n",
    "\n",
    "            --> and: True if both the operands are true, False if one of the operands or both are false\n",
    "\n",
    "            --> or: True if either of the operands is true, False only if both the operands is false\t\n",
    "\n",
    "            --> not: True if operand is false: False if operand is true"
   ]
  },
  {
   "cell_type": "code",
   "execution_count": 19,
   "id": "1b9fea0d",
   "metadata": {},
   "outputs": [
    {
     "name": "stdout",
     "output_type": "stream",
     "text": [
      "True\n",
      "False\n",
      "True\n"
     ]
    }
   ],
   "source": [
    "# Three different types of Boolean operators\n",
    "x = 5\n",
    "y = 3\n",
    "#and operator\n",
    "print((x>4) and (y<5))\n",
    "print((x>4) and (y>5))\n",
    "\n",
    "#or operator\n",
    "print((x>4) or (y>5))"
   ]
  },
  {
   "cell_type": "code",
   "execution_count": 20,
   "id": "00c77595",
   "metadata": {},
   "outputs": [
    {
     "name": "stdout",
     "output_type": "stream",
     "text": [
      "False\n"
     ]
    }
   ],
   "source": [
    "#not operator\n",
    "z= True\n",
    "print(not z)"
   ]
  },
  {
   "cell_type": "markdown",
   "id": "478f8ad3",
   "metadata": {},
   "source": [
    "3. Make a list of each Boolean operator's truth tables\n",
    "(i.e. every possible combination of Boolean values for the operator and what it evaluate ).\n",
    "        A\tB\tA and B\n",
    "        1\t1\t1\n",
    "        1\t0\t0\n",
    "        0\t1\t0\n",
    "        0\t0\t0\n",
    "\n",
    "        A   B   A or B\n",
    "        1   1   1\n",
    "        1   0   1\n",
    "        0   1   1\n",
    "        0   0   0\n",
    "        \n",
    "        A   not A\n",
    "        1    0\n",
    "        0    1\n",
    "\n"
   ]
  },
  {
   "cell_type": "markdown",
   "id": "a33f9daf",
   "metadata": {},
   "source": [
    "4. What are the values of the following expressions?\n",
    "\n",
    "        (5 > 4) and (3 == 5) --> False\n",
    "\n",
    "        not (5 > 4) -->  False\n",
    "\n",
    "        (5 > 4) or (3 == 5) -->  True\n",
    "\n",
    "        not ((5 > 4) or (3 == 5)) -->  False\n",
    "\n",
    "        (True and True) and (True == False) --> False\n",
    "\n",
    "        (not False) or (not True) --> True\n"
   ]
  },
  {
   "cell_type": "code",
   "execution_count": 21,
   "id": "7abcdecf",
   "metadata": {},
   "outputs": [
    {
     "name": "stdout",
     "output_type": "stream",
     "text": [
      "False\n",
      "False\n",
      "True\n",
      "False\n",
      "False\n",
      "True\n"
     ]
    }
   ],
   "source": [
    "print((5 > 4) and (3 == 5))\n",
    "print(not(5>4))\n",
    "print((5>4) or (3==5))\n",
    "print(not ((5 > 4) or (3 == 5)))\n",
    "print((True and True) and (True == False))\n",
    "print((not False) or (not True))"
   ]
  },
  {
   "cell_type": "markdown",
   "id": "66a005e6",
   "metadata": {},
   "source": [
    "5. What are the six comparison operators?\n",
    "\n",
    "        The six comparison operators are:\n",
    "            \n",
    "            --> \">\"  - Greater than \n",
    "            --> \"<\"  - Lesser than\n",
    "            --> \"<=\" - Less than or equal to \n",
    "            --> \">=\" - Greater than or equal to \n",
    "            --> \"==\" - Equal to \n",
    "            --> \"!=\" - Not equal to \n",
    "\n"
   ]
  },
  {
   "cell_type": "code",
   "execution_count": 22,
   "id": "3aa9dd43",
   "metadata": {},
   "outputs": [
    {
     "name": "stdout",
     "output_type": "stream",
     "text": [
      "True\n",
      "False\n",
      "False\n",
      "True\n",
      "False\n",
      "True\n"
     ]
    }
   ],
   "source": [
    "x = 5\n",
    "y = 3\n",
    "#Greater than \n",
    "print(x>y)\n",
    "#Lesser than\n",
    "print(x<y)\n",
    "#Greater than or equal to \n",
    "print(x<=y)\n",
    "#Less than or equal to \n",
    "print(x>=y)\n",
    "# Equal to \n",
    "print(x==y)\n",
    "# Not equal to \n",
    "print(x!=y)"
   ]
  },
  {
   "cell_type": "markdown",
   "id": "1e01a4c6",
   "metadata": {},
   "source": [
    "6. How do you tell the difference between the equal to and assignment operators?\n",
    "Describe a condition and when you would use one.\n",
    "\n",
    "\n",
    "    Equal to operator(==): The double equals sign is a comparison operators that checks if both the values are equal\n",
    "    Assignment operator(=): The single equals sign assigns value to the variable"
   ]
  },
  {
   "cell_type": "code",
   "execution_count": 23,
   "id": "4e000ec8",
   "metadata": {},
   "outputs": [
    {
     "name": "stdout",
     "output_type": "stream",
     "text": [
      "The addition of 10 + 20 is 30. Your answer is right\n"
     ]
    }
   ],
   "source": [
    "# Assignment operator\n",
    "x = 10 + 20\n",
    "\n",
    "#comparison operator\n",
    "if x == 30:\n",
    "    print (\"The addition of 10 + 20 is 30\")\n",
    "else:\n",
    "    print(\"Wrong\")"
   ]
  },
  {
   "cell_type": "markdown",
   "id": "85b18893",
   "metadata": {},
   "source": [
    "7. Identify the three blocks in this code:\n",
    "\n",
    "spam = 0\n",
    "if spam == 10:\n",
    "print('eggs')\n",
    "if spam > 5:\n",
    "print('bacon')\n",
    "else:\n",
    "print('ham')\n",
    "print('spam')\n",
    "print('spam')\n",
    "\n",
    "\n",
    "        The three blocks in the code is Indentation. Python relies on the proper indentation to run blocks of code. \n",
    "             --> First block: Indentation requried for the line 3 for the If statement at line 2\n",
    "             --> Second block: Indentation required at line 5 for the If statement at line 4\n",
    "             --> Third block: Indentation required at line 7 for the else statement at line 6"
   ]
  },
  {
   "cell_type": "code",
   "execution_count": 7,
   "id": "2cb4c8ba",
   "metadata": {
    "scrolled": true
   },
   "outputs": [
    {
     "name": "stdout",
     "output_type": "stream",
     "text": [
      "ham\n",
      "spam\n",
      "spam\n"
     ]
    }
   ],
   "source": [
    "spam = 0\n",
    "if spam == 10:\n",
    "    print('eggs')\n",
    "if spam > 5:\n",
    "    print('bacon')\n",
    "else:\n",
    "    print('ham')\n",
    "    print('spam')\n",
    "    print('spam')"
   ]
  },
  {
   "cell_type": "markdown",
   "id": "f65f095a",
   "metadata": {},
   "source": [
    "8. Write code that prints Hello if 1 is stored in spam, prints Howdy if 2 is stored in spam, and prints Greetings! if anything else is stored in spam."
   ]
  },
  {
   "cell_type": "code",
   "execution_count": 8,
   "id": "2aa6d58c",
   "metadata": {},
   "outputs": [
    {
     "name": "stdout",
     "output_type": "stream",
     "text": [
      "Enter the value of spam:1\n",
      "Hello\n"
     ]
    }
   ],
   "source": [
    "spam = (int(input(\"Enter the value of spam:\")))\n",
    "if spam ==1:\n",
    "    print(\"Hello\")\n",
    "elif spam ==2:\n",
    "    print(\"Howdy\")\n",
    "else:\n",
    "    print(\"Greetings\")"
   ]
  },
  {
   "cell_type": "markdown",
   "id": "6cff4e74",
   "metadata": {},
   "source": [
    "9.If your programme is stuck in an endless loop, what keys you’ll press?\n",
    "\n",
    "Ctrl + C\n",
    "\n",
    "To interrupt the loop or to stop the program, by pressing Ctrl + C manually would stop the loop and the program"
   ]
  },
  {
   "cell_type": "markdown",
   "id": "d25385d4",
   "metadata": {},
   "source": [
    "10. How can you tell the difference between break and continue?\n",
    "\n",
    "    Break and continue are control flow statements that control exceution of loops\n",
    "    \n",
    "    break: Terminates the execution of loop immediately\n",
    "    continue: When a continue statement is encountered, the loop immediately jumps to the next iteration, skipping any remaining code for the current iteration"
   ]
  },
  {
   "cell_type": "code",
   "execution_count": 37,
   "id": "f21a01e1",
   "metadata": {},
   "outputs": [
    {
     "name": "stdout",
     "output_type": "stream",
     "text": [
      "0\n",
      "1\n",
      "2\n"
     ]
    }
   ],
   "source": [
    "for i in range(6):\n",
    "    if i == 3:\n",
    "        break\n",
    "    print(i)"
   ]
  },
  {
   "cell_type": "code",
   "execution_count": 38,
   "id": "2edfdd38",
   "metadata": {},
   "outputs": [
    {
     "name": "stdout",
     "output_type": "stream",
     "text": [
      "0\n",
      "1\n",
      "2\n",
      "4\n",
      "5\n"
     ]
    }
   ],
   "source": [
    "for i in range(6):\n",
    "    if i == 3:\n",
    "        continue\n",
    "    print(i)\n"
   ]
  },
  {
   "cell_type": "markdown",
   "id": "0417bc7c",
   "metadata": {},
   "source": [
    "11. In a for loop, what is the difference between range(10), range(0, 10), and range(0, 10, 1)?\n",
    "\n",
    "    In a for loop, range(10), range(0,10) and range(0, 10, 1) produces same output.\n",
    "    \n",
    "    range(10): generates a sequence of numbers till 10 but does not include 10\n",
    "    \n",
    "    range(0,10): specifies the starting number(0) and ending number(10). Generates number from 0 to 10, but does not include 10\n",
    "    \n",
    "    range(0,10,0): specifies the starting value (0), the ending value (10 - not inclusive), and the step size (1) for the range\n"
   ]
  },
  {
   "cell_type": "code",
   "execution_count": 28,
   "id": "9434e64e",
   "metadata": {},
   "outputs": [
    {
     "name": "stdout",
     "output_type": "stream",
     "text": [
      "0\n",
      "1\n",
      "2\n",
      "3\n",
      "4\n",
      "5\n",
      "6\n",
      "7\n",
      "8\n",
      "9\n"
     ]
    }
   ],
   "source": [
    "#range(10)\n",
    "for i in range(10):\n",
    "    print(i)"
   ]
  },
  {
   "cell_type": "code",
   "execution_count": 29,
   "id": "bf9ee026",
   "metadata": {},
   "outputs": [
    {
     "name": "stdout",
     "output_type": "stream",
     "text": [
      "0\n",
      "1\n",
      "2\n",
      "3\n",
      "4\n",
      "5\n",
      "6\n",
      "7\n",
      "8\n",
      "9\n"
     ]
    }
   ],
   "source": [
    "#range(0, 10)\n",
    "for i in range(0, 10):\n",
    "    print(i)"
   ]
  },
  {
   "cell_type": "code",
   "execution_count": 30,
   "id": "adb19c9b",
   "metadata": {},
   "outputs": [
    {
     "name": "stdout",
     "output_type": "stream",
     "text": [
      "0\n",
      "1\n",
      "2\n",
      "3\n",
      "4\n",
      "5\n",
      "6\n",
      "7\n",
      "8\n",
      "9\n"
     ]
    }
   ],
   "source": [
    "#range(0, 10, 1)\n",
    "for i in range(0, 10, 1):\n",
    "    print(i)"
   ]
  },
  {
   "cell_type": "markdown",
   "id": "87476c64",
   "metadata": {},
   "source": [
    "12. Write a short program that prints the numbers 1 to 10 using a for loop. \n",
    "Then write an equivalent program that prints the numbers 1 to 10 using a while loop."
   ]
  },
  {
   "cell_type": "code",
   "execution_count": 31,
   "id": "6f59760c",
   "metadata": {},
   "outputs": [
    {
     "name": "stdout",
     "output_type": "stream",
     "text": [
      "1\n",
      "2\n",
      "3\n",
      "4\n",
      "5\n",
      "6\n",
      "7\n",
      "8\n",
      "9\n",
      "10\n"
     ]
    }
   ],
   "source": [
    "#program that prints the numbers 1 to 10 using a for loop\n",
    "for i in range(1, 11):\n",
    "    print(i)"
   ]
  },
  {
   "cell_type": "code",
   "execution_count": 32,
   "id": "5317592d",
   "metadata": {},
   "outputs": [
    {
     "name": "stdout",
     "output_type": "stream",
     "text": [
      "1\n",
      "2\n",
      "3\n",
      "4\n",
      "5\n",
      "6\n",
      "7\n",
      "8\n",
      "9\n",
      "10\n"
     ]
    }
   ],
   "source": [
    "#program that prints the numbers 1 to 10 using a while loop.\n",
    "i = 1\n",
    "while i <= 10:\n",
    "    print(i)\n",
    "    i += 1"
   ]
  },
  {
   "cell_type": "markdown",
   "id": "0faafaa3",
   "metadata": {},
   "source": [
    "13. If you had a function named bacon() inside a module named spam, how would you call it after importing spam?\n"
   ]
  },
  {
   "cell_type": "markdown",
   "id": "16dc94bd",
   "metadata": {},
   "source": [
    "import spam\n",
    "\n",
    "spam.bacon()"
   ]
  }
 ],
 "metadata": {
  "kernelspec": {
   "display_name": "Python 3 (ipykernel)",
   "language": "python",
   "name": "python3"
  },
  "language_info": {
   "codemirror_mode": {
    "name": "ipython",
    "version": 3
   },
   "file_extension": ".py",
   "mimetype": "text/x-python",
   "name": "python",
   "nbconvert_exporter": "python",
   "pygments_lexer": "ipython3",
   "version": "3.9.13"
  }
 },
 "nbformat": 4,
 "nbformat_minor": 5
}
