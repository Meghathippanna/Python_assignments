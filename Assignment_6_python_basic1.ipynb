{
 "cells": [
  {
   "cell_type": "markdown",
   "id": "b6ed43a7-d407-41bd-9e97-090e00d4f46e",
   "metadata": {},
   "source": [
    "Assignment-6 python- Basic-1"
   ]
  },
  {
   "cell_type": "markdown",
   "id": "d0e9cc89-a9eb-494b-8b74-3be0b8b905f9",
   "metadata": {},
   "source": [
    "Q.1. What are keywords in python? Using the keyword library, print all the python keyword\n",
    "\n",
    "Keywords are list of reserved words having special meaning that can used in python. Keywords cannot be used as identifiers"
   ]
  },
  {
   "cell_type": "code",
   "execution_count": 26,
   "id": "07716779",
   "metadata": {},
   "outputs": [
    {
     "name": "stdout",
     "output_type": "stream",
     "text": [
      "['False', 'None', 'True', 'and', 'as', 'assert', 'async', 'await', 'break', 'class', 'continue', 'def', 'del', 'elif', 'else', 'except', 'finally', 'for', 'from', 'global', 'if', 'import', 'in', 'is', 'lambda', 'nonlocal', 'not', 'or', 'pass', 'raise', 'return', 'try', 'while', 'with', 'yield']\n"
     ]
    }
   ],
   "source": [
    "# Keywords in python\n",
    "import keyword\n",
    "print(keyword.kwlist)"
   ]
  },
  {
   "cell_type": "markdown",
   "id": "0e30c7d0",
   "metadata": {},
   "source": [
    "Q.2. What are the rules to create variables in python?\n",
    "\n",
    "Variables are used to store and reference data\n",
    "\n",
    "--> It can be combination of letters, digits and underscore\n",
    "\n",
    "--> Must begin with letter or underscore but not begin with digits\n",
    "\n",
    "--> Variable names are case sensitive\n",
    "\n",
    "--> Special characters like !, @, #, $, % are not allowed in variable names\n",
    "\n",
    "--> Python reserved words cannot be used as variable names.\n",
    "\n",
    "--> There shouldnt be space within the variable name"
   ]
  },
  {
   "cell_type": "markdown",
   "id": "2125a9de-1670-4858-9825-42c0ff5dccb5",
   "metadata": {},
   "source": [
    "Q.3. What are the standards and conventions followed for the nomenclature of variables in\n",
    "python to improve code readability and maintainability?\n",
    "\n",
    "As per PEP 8, the standards and conventions followed for the nomenclature of variables are\n",
    "\n",
    "--> using lowercase with underscores for variable and function names, also called snake_case\n",
    "\n",
    "--> PascalCase for class names, also called CamelCase\n",
    "\n",
    "--> Upper case with underscores for constants\n",
    "\n",
    "--> Descriptive and Meaningful Names instead of single-letter variable names\n",
    "\n",
    "--> Should not use a Python reserved word as variables\n",
    "\n",
    "--> Module and package names should be short, descriptive, and in lowercase. Avoid using underscores in module names.\n",
    "\n",
    "--> If a variable is intended to be private (not to be accessed from outside the class or module), prefix it with a single underscore"
   ]
  },
  {
   "cell_type": "code",
   "execution_count": 33,
   "id": "34d235a8-d84f-4a0d-831b-d514a0e1e0d5",
   "metadata": {},
   "outputs": [],
   "source": [
    "#snake_case\n",
    "my_variable = 'Hello, Python!'\n",
    "def my_function():\n",
    "    return\n",
    "# PascalCase or CamelCase \n",
    "class MyClass:\n",
    "    pass\n",
    "#UPPER_CASE_WITH_UNDERSCORES\n",
    "MY_PHONE_NUMBER= 90000000\n",
    "\n",
    "#Private variables\n",
    "_internal_data = 42\n",
    "\n",
    "#Module or package names without underscores\n",
    "#import mymodule"
   ]
  },
  {
   "cell_type": "markdown",
   "id": "eae334c1",
   "metadata": {},
   "source": [
    "Q.4. What will happen if a keyword is used as a variable name?\n",
    "\n",
    "        Syntax error will be encountered"
   ]
  },
  {
   "cell_type": "code",
   "execution_count": 4,
   "id": "7dd5135d",
   "metadata": {},
   "outputs": [
    {
     "ename": "SyntaxError",
     "evalue": "invalid syntax (3957010356.py, line 1)",
     "output_type": "error",
     "traceback": [
      "\u001b[1;36m  Cell \u001b[1;32mIn[4], line 1\u001b[1;36m\u001b[0m\n\u001b[1;33m    finally = 3\u001b[0m\n\u001b[1;37m    ^\u001b[0m\n\u001b[1;31mSyntaxError\u001b[0m\u001b[1;31m:\u001b[0m invalid syntax\n"
     ]
    }
   ],
   "source": [
    "finally = 3"
   ]
  },
  {
   "cell_type": "markdown",
   "id": "b6426f32",
   "metadata": {},
   "source": [
    "Q.5. For what purpose def keyword is used?\n",
    "\n",
    "def keyword is used to define a function. A function is a block of reusable code that performs a specific task.\n"
   ]
  },
  {
   "cell_type": "code",
   "execution_count": 5,
   "id": "b848ad60",
   "metadata": {},
   "outputs": [],
   "source": [
    "def function_name(parameters):\n",
    "    #function\n",
    "    #perform action\n",
    "    return result"
   ]
  },
  {
   "cell_type": "markdown",
   "id": "fea8e315",
   "metadata": {},
   "source": [
    "Q.6. What is the operation of this special character ‘\\’?\n",
    "\n",
    "Special character '/' is arthimetic operator used for division for results with decimal points"
   ]
  },
  {
   "cell_type": "code",
   "execution_count": 24,
   "id": "7ae98c83",
   "metadata": {},
   "outputs": [
    {
     "data": {
      "text/plain": [
       "1.6666666666666667"
      ]
     },
     "execution_count": 24,
     "metadata": {},
     "output_type": "execute_result"
    }
   ],
   "source": [
    "x = 5/3\n",
    "x"
   ]
  },
  {
   "cell_type": "code",
   "execution_count": null,
   "id": "abd6f975",
   "metadata": {},
   "outputs": [],
   "source": [
    "Q.7. Give an example of the following conditions:\n",
    "(i) Homogeneous list\n",
    "(ii) Heterogeneous set\n",
    "(iii) Homogeneous tuple"
   ]
  },
  {
   "cell_type": "code",
   "execution_count": 42,
   "id": "3065bdc0",
   "metadata": {},
   "outputs": [
    {
     "name": "stdout",
     "output_type": "stream",
     "text": [
      "Example of Homeogeneous list: [1, 2, 3, 123, 200]\n",
      "Example of Heterogeneous set: {'apple', 2, 3.14, 1, 'a'}\n",
      "Example of Homeogeneous tuple: ('Mean', 'Median', 'Mode')\n"
     ]
    }
   ],
   "source": [
    "#Homogeneous list\n",
    "Homogeneous_list= [1, 2, 3, 123, 200]\n",
    "#Heterogeneous set\n",
    "Heterogeneous_set = {1, 2, 3.14, 'a','apple'}\n",
    "#Homogeneous tuple\n",
    "Homogeneous_tuple = ('Mean', 'Median', 'Mode')\n",
    "\n",
    "print(f\"Example of Homeogeneous list: {Homogeneous_list}\")\n",
    "print(f\"Example of Heterogeneous set: {Heterogeneous_set}\")\n",
    "print(f\"Example of Homeogeneous tuple: {Homogeneous_tuple}\")"
   ]
  },
  {
   "cell_type": "markdown",
   "id": "d16a21e4-fbf5-44de-a72c-f4ebf5567fc0",
   "metadata": {},
   "source": [
    "Q.8. Explain the mutable and immutable data types with proper explanation & examples.\n",
    "\n",
    "Mutable data types: The ability to change the content, add or remove elements, or modify its properties without creating a new object\n",
    "Examples: List, dictionary, set\n"
   ]
  },
  {
   "cell_type": "code",
   "execution_count": 9,
   "id": "a3292f23",
   "metadata": {},
   "outputs": [
    {
     "name": "stdout",
     "output_type": "stream",
     "text": [
      "Mutable list: [10, 2, 3]\n",
      "Mutable dictionary:{'a': 10, 'b': 2}\n",
      "Updated set: {1, 2, 3, 4}\n"
     ]
    }
   ],
   "source": [
    "list = [1, 2, 3]\n",
    "list[0] = 10\n",
    "print(f\"Mutable list: {list}\") \n",
    "dict = {'a': 1, 'b': 2}\n",
    "dict['a'] = 10\n",
    "print(f\"Mutable dictionary:{dict}\")\n",
    "set = {1, 2, 3}\n",
    "set.add(4)\n",
    "print(f\"Updated set: {set}\")  \n"
   ]
  },
  {
   "cell_type": "markdown",
   "id": "f67a44f1-6b0f-40fc-b6b9-b4d77746add5",
   "metadata": {},
   "source": [
    "Immutable data types: cannot be modified once it is created. Any operation that appears to modify the object creates a new object.\n",
    "Examples: Tuples, string, integer"
   ]
  },
  {
   "cell_type": "code",
   "execution_count": 23,
   "id": "8af76e7f-50a0-45ba-a463-ce48bd7b6b2c",
   "metadata": {},
   "outputs": [
    {
     "name": "stdout",
     "output_type": "stream",
     "text": [
      "(10, 2, 3)\n"
     ]
    }
   ],
   "source": [
    "#tuples are immutable, you can't modify them directly\n",
    "immutable_tuple = (1, 2, 3)\n",
    "#immutable_tuple[0] = 10  This is not possible\n",
    "\n",
    "#but creating a new tuple with the desired modifications is possible\n",
    "new_tuple_obj = (10,) + immutable_tuple[1:]\n",
    "print(new_tuple_obj)"
   ]
  },
  {
   "cell_type": "code",
   "execution_count": 24,
   "id": "c4fee490-6d48-47e7-9119-e4126c575cc2",
   "metadata": {},
   "outputs": [
    {
     "ename": "TypeError",
     "evalue": "'str' object does not support item assignment",
     "output_type": "error",
     "traceback": [
      "\u001b[1;31m---------------------------------------------------------------------------\u001b[0m",
      "\u001b[1;31mTypeError\u001b[0m                                 Traceback (most recent call last)",
      "Cell \u001b[1;32mIn[24], line 3\u001b[0m\n\u001b[0;32m      1\u001b[0m \u001b[38;5;66;03m# Attempting to modify immutable data types will raise an error\u001b[39;00m\n\u001b[0;32m      2\u001b[0m immutable_string \u001b[38;5;241m=\u001b[39m \u001b[38;5;124m\"\u001b[39m\u001b[38;5;124mHello\u001b[39m\u001b[38;5;124m\"\u001b[39m\n\u001b[1;32m----> 3\u001b[0m immutable_string[\u001b[38;5;241m0\u001b[39m] \u001b[38;5;241m=\u001b[39m \u001b[38;5;124m'\u001b[39m\u001b[38;5;124mJ\u001b[39m\u001b[38;5;124m'\u001b[39m\n",
      "\u001b[1;31mTypeError\u001b[0m: 'str' object does not support item assignment"
     ]
    }
   ],
   "source": [
    "# Attempting to modify immutable data types will raise an error\n",
    "immutable_string = \"Hello\"\n",
    "immutable_string[0] = 'J'  \n",
    "#TypeError: 'str' object does not support item assignment"
   ]
  },
  {
   "cell_type": "code",
   "execution_count": 25,
   "id": "12600014-85c0-4f6c-a28a-71f0375e73b7",
   "metadata": {},
   "outputs": [
    {
     "name": "stdout",
     "output_type": "stream",
     "text": [
      "5\n",
      "6\n"
     ]
    }
   ],
   "source": [
    "# Immutable integer\n",
    "immutable_int = 5\n",
    "\n",
    "# Attempting to modify will create a new integer object\n",
    "new_immutable_int = immutable_int + 1\n",
    "\n",
    "print(immutable_int)      # Output: 5\n",
    "print(new_immutable_int)  # Output: 6\n"
   ]
  },
  {
   "cell_type": "raw",
   "id": "1c8a5715",
   "metadata": {},
   "source": [
    "Q.9. Write a code to create the given structure using only for loop.\n",
    "\n",
    "\n",
    "*\n",
    "***\n",
    "*****\n",
    "*******\n",
    "*********"
   ]
  },
  {
   "cell_type": "code",
   "execution_count": 31,
   "id": "524850c2",
   "metadata": {},
   "outputs": [
    {
     "name": "stdout",
     "output_type": "stream",
     "text": [
      "*\n",
      "***\n",
      "*****\n",
      "*******\n",
      "*********\n"
     ]
    }
   ],
   "source": [
    "rows=5\n",
    "    \n",
    "for i in range(1, rows + 1):\n",
    "    for j in range(1, 2*i):\n",
    "        print('*', end='')\n",
    "    print()\n"
   ]
  },
  {
   "cell_type": "code",
   "execution_count": null,
   "id": "49e649ac",
   "metadata": {},
   "outputs": [],
   "source": [
    "Q.10. Write a code to create the given structure using while loop.\n",
    "|||||||||\n",
    "|||||||\n",
    "|||||\n",
    "|||\n",
    "|"
   ]
  },
  {
   "cell_type": "code",
   "execution_count": 32,
   "id": "275dee29",
   "metadata": {},
   "outputs": [
    {
     "name": "stdout",
     "output_type": "stream",
     "text": [
      "|||||\n",
      "||||\n",
      "|||\n",
      "||\n",
      "|\n"
     ]
    }
   ],
   "source": [
    "rows = 5\n",
    "i = rows\n",
    "\n",
    "while i >= 1:\n",
    "    j = i\n",
    "    while j >= 1:\n",
    "        print('|', end='')\n",
    "        j -= 1\n",
    "    print()\n",
    "    i -= 1\n"
   ]
  }
 ],
 "metadata": {
  "kernelspec": {
   "display_name": "Python 3 (ipykernel)",
   "language": "python",
   "name": "python3"
  },
  "language_info": {
   "codemirror_mode": {
    "name": "ipython",
    "version": 3
   },
   "file_extension": ".py",
   "mimetype": "text/x-python",
   "name": "python",
   "nbconvert_exporter": "python",
   "pygments_lexer": "ipython3",
   "version": "3.11.5"
  }
 },
 "nbformat": 4,
 "nbformat_minor": 5
}
