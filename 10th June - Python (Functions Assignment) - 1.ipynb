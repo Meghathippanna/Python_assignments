{
 "cells": [
  {
   "cell_type": "markdown",
   "id": "71d30b68-50e1-4d4a-9315-88e64600a29a",
   "metadata": {},
   "source": [
    "10th June Python Functions Assignment-1"
   ]
  },
  {
   "cell_type": "markdown",
   "id": "214e4da7-49f1-4119-ae9e-8bfa4b210459",
   "metadata": {},
   "source": [
    "1. In Python, what is the difference between a built-in function and a user-defined function? Provide an\n",
    "example of each.\n",
    "\n",
    "        --> Built-in functions are functions that are already defined in the Python standard library, and they are available for use without the need for explicit definition\n",
    "        --> Eg for Built-in function: print(), len(), sum()\n",
    "        --> User-defined functions are functions that are created by the programmer to perform specific tasks or operations. These functions are defined using the def keyword."
   ]
  },
  {
   "cell_type": "code",
   "execution_count": 3,
   "id": "3657c231-9ea0-473f-8ca3-1716ae9a4120",
   "metadata": {},
   "outputs": [
    {
     "name": "stdout",
     "output_type": "stream",
     "text": [
      "Hello, World!\n",
      "Greetings of the day megha\n"
     ]
    }
   ],
   "source": [
    "#Built-in function \n",
    "print(\"Hello, World!\")\n",
    "#user-defined function\n",
    "def greet(name):\n",
    "    print(f\"Greetings of the day {name}\")\n",
    "    \n",
    "greet(\"megha\")\n",
    "\n",
    "# print is built-in function and greet is user-defined function"
   ]
  },
  {
   "cell_type": "markdown",
   "id": "7168d79b-9ad0-4de5-bed5-4ed08190fc6b",
   "metadata": {},
   "source": [
    "2. How can you pass arguments to a function in Python? Explain the difference between positional\n",
    "arguments and keyword arguments.\n",
    "\n",
    "Passing arguments to a function can be done using positional and keyword arguments\n",
    "\n",
    "    Positional arguments are passed based on the position and order of parameter names of the function.\n",
    "    Keyword arguments: Parameter Names are used to pass the argument during the function call. Order of parameter Names can be changed to pass the argumentnt"
   ]
  },
  {
   "cell_type": "code",
   "execution_count": 4,
   "id": "e5ed0f50-b917-4197-9ab4-8667f360673f",
   "metadata": {},
   "outputs": [
    {
     "name": "stdout",
     "output_type": "stream",
     "text": [
      "Your name is Megha, and age is 24\n",
      "Your name is 24, and age is Megha\n",
      "Your name is Megha, and age is 24\n"
     ]
    }
   ],
   "source": [
    "def name_age(name, age):\n",
    "    print(f\"Your name is {name}, and age is {age}\")\n",
    "\n",
    "#using proper positional arguments\n",
    "print1 = name_age(\"Megha\", 24)\n",
    "print1\n",
    "#positonal arguments is based on the order. if incase of improper order\n",
    "print2 = name_age(24, \"Megha\")\n",
    "print2\n",
    "#Keyword arguments; order of the parameters doesn't make a difference:\n",
    "print3= name_age(age=24, name=\"Megha\")\n",
    "print3"
   ]
  },
  {
   "cell_type": "markdown",
   "id": "95297ebb-e0a3-422b-8d3d-91c7a27d0df0",
   "metadata": {},
   "source": [
    "3. What is the purpose of the return statement in a function? Can a function have multiple return\n",
    "statements? Explain with an example.\n",
    "\n",
    "The purpose of return statement in a function is used to end the execution of the function call and returns the result.\n",
    "\n",
    "A function can have multiple return, but once a return statement is encountered, the function exits immediately"
   ]
  },
  {
   "cell_type": "code",
   "execution_count": 5,
   "id": "155e8e60-882e-40c4-b40c-07101310a016",
   "metadata": {},
   "outputs": [
    {
     "data": {
      "text/plain": [
       "'B'"
      ]
     },
     "execution_count": 5,
     "metadata": {},
     "output_type": "execute_result"
    }
   ],
   "source": [
    "def get_grade(score):\n",
    "    if score >= 90:\n",
    "        return \"A\"\n",
    "    elif 80 <= score < 90:\n",
    "        return \"B\"\n",
    "    elif 70 <= score < 80:\n",
    "        return \"C\"\n",
    "    elif 60 <= score < 70:\n",
    "        return \"D\"\n",
    "    else:\n",
    "        return \"F\"\n",
    "get_grade(85)"
   ]
  },
  {
   "cell_type": "markdown",
   "id": "1dff858b-2968-46bc-bcbb-6b33767123cb",
   "metadata": {},
   "source": [
    "4. What are lambda functions in Python? How are they different from regular functions? Provide an example where a lambda function can be useful.\n",
    "\n",
    "    Lambda functions in python are used to create a small, anonymous function. This function can have any number of arguments but only one expression.\n",
    "\n",
    "They are different from regular functions because of the following reasons:\n",
    "\n",
    "        --> Unlike regular functions, lambda functions takes only one expression \n",
    "        \n",
    "        --> Loops cannot be used in lambda function\n",
    "        \n",
    "        --> Cannot take user input \n",
    "        \n",
    "        --> They are defined using the lambda keyword, followed by a list of arguments, a colon, and an expression. Regular functions are defined using the def keyword, followed by a function name, a list of parameters in parentheses, a colon, and a block of code\n",
    "        \n",
    "        --> Lambda functions return the result of the expression, and there is no requirement of return statement\n",
    "       \n",
    "Advantages: Lambda functions are typically used for short, concise, one-time operations "
   ]
  },
  {
   "cell_type": "code",
   "execution_count": 6,
   "id": "5f078e8c-d0bd-4ee0-94fc-080d38243e62",
   "metadata": {},
   "outputs": [
    {
     "data": {
      "text/plain": [
       "12"
      ]
     },
     "execution_count": 6,
     "metadata": {},
     "output_type": "execute_result"
    }
   ],
   "source": [
    "#lambda arguments: expression\n",
    "add = lambda x, y: x+y\n",
    "add(5, 7)"
   ]
  },
  {
   "cell_type": "markdown",
   "id": "eb1bd3c6-64f3-4495-ba9d-4c62a2ebd75d",
   "metadata": {},
   "source": [
    "5. How does the concept of \"scope\" apply to functions in Python? Explain the difference between local\n",
    "scope and global scope.\n",
    "\n",
    "A variable is only available from inside the region it is created is called scope\n",
    "\n",
    "A variable created inside a function belongs to the local scope of that function, and can only be used inside that function.\n",
    "A variable created outside of a function is global and are available from within any scope, global and local"
   ]
  },
  {
   "cell_type": "code",
   "execution_count": 7,
   "id": "242afa0e-889e-40c8-97ff-e4eea6cf138c",
   "metadata": {},
   "outputs": [
    {
     "name": "stdout",
     "output_type": "stream",
     "text": [
      "500\n"
     ]
    }
   ],
   "source": [
    "x = 300\n",
    "# global variable in global scope\n",
    "def myfunc():\n",
    "#local variable belonging to local scope \n",
    "    y = 200\n",
    "    print(x +y)\n",
    "\n",
    "myfunc()\n"
   ]
  },
  {
   "cell_type": "markdown",
   "id": "0f705bd1-a3b1-4566-88ef-56aeb3b7ff3a",
   "metadata": {},
   "source": [
    "6. How can you use the \"return\" statement in a Python function to return multiple values?"
   ]
  },
  {
   "cell_type": "code",
   "execution_count": 8,
   "id": "08e38f01-977c-4581-b3cc-0be66167b105",
   "metadata": {},
   "outputs": [
    {
     "data": {
      "text/plain": [
       "(13, 3, 40, 1.6)"
      ]
     },
     "execution_count": 8,
     "metadata": {},
     "output_type": "execute_result"
    }
   ],
   "source": [
    "def quickcalci(x, y):\n",
    "    add = x + y\n",
    "    sub = x - y\n",
    "    multiply = x *y \n",
    "    division= x/y\n",
    "    return add, sub, multiply, division\n",
    "    \n",
    "quickcalci(8, 5)"
   ]
  },
  {
   "cell_type": "markdown",
   "id": "03a0b88c-8093-4dd4-93e5-f41168bbcbc6",
   "metadata": {},
   "source": [
    "7. What is the difference between the \"pass by value\" and \"pass by reference\" concepts when it\n",
    "comes to function arguments in Python?\n",
    "\n",
    " --> “pass by value”: a copy of that value is made and passed to the function. Modifying the copy within the function does not affect the original value.\n",
    " \n",
    " --> “pass by reference”: a reference or pointer to the original object is passed to the function. As a result, any modifications made within the function directly impact the original object itself.\n",
    " \n",
    " --> Python’s employs “Pass by Object Reference” which combines elements of both “pass-by-value” and “pass-by-reference” behaviors. When passing arguments to functions, Python creates a binding between the function parameter and the argument provided during the function call \n",
    " \n",
    " --> For immutable objects like numbers and strings, the behavior always resembles “pass-by-value.”\n",
    " \n",
    " --> For mutable objects such as lists and dictionaries, the behavior has dual nature."
   ]
  },
  {
   "cell_type": "markdown",
   "id": "8c827f02-65e0-4e01-bd7d-73c4980cc7c4",
   "metadata": {},
   "source": [
    "8. Create a function that can intake integer or decimal value and do following operations:\n",
    "   \n",
    "a. Logarithmic function (log x):\n",
    "    The math.log() method returns the natural logarithm of a number\n",
    "    \n",
    "b. Exponential function (exp(x)):\n",
    "    The math.exp() method returns E raised to the power of x \n",
    "    \n",
    "c. Power function with base 2 (2x):\n",
    "    The pow() function returns the value of x to the power of y. \n",
    "    \n",
    "d. Square root:\n",
    "    The math.sqrt() method returns the square root of a number."
   ]
  },
  {
   "cell_type": "code",
   "execution_count": 9,
   "id": "0dd6e36f-f718-4cd4-afcf-3151ecf2dccc",
   "metadata": {},
   "outputs": [
    {
     "name": "stdout",
     "output_type": "stream",
     "text": [
      " -->The log of 10.15 is 2.3174737054877963 --> E raised to the power of 10.15 is 25591.102206689702  -->Two to the power of 10.15 is 2.037035976334486e+90, --> Square root of 10.15 is 3.1859064644147983\n"
     ]
    }
   ],
   "source": [
    "import math\n",
    "def calci(num):\n",
    "    log_func = math.log(num)\n",
    "    exponential = math.exp(num)\n",
    "    power = math.pow(2, x)\n",
    "    square_root= math.sqrt(num)\n",
    "    return print(f\" -->The log of {num} is {log_func} --> E raised to the power of {num} is {exponential}  -->Two to the power of {num} is {power}, --> Square root of {num} is {square_root}\")\n",
    "\n",
    "calci(10.15)"
   ]
  },
  {
   "cell_type": "markdown",
   "id": "a999a1a7-714b-44a8-9d04-420c7cc3b4c8",
   "metadata": {},
   "source": [
    "9. Create a function that takes a full name as an argument and returns first name and last name.\n",
    "\n",
    "split() method can be used "
   ]
  },
  {
   "cell_type": "code",
   "execution_count": 12,
   "id": "d6dcbf8a-b428-4eab-bc9c-d64049391513",
   "metadata": {},
   "outputs": [
    {
     "name": "stdout",
     "output_type": "stream",
     "text": [
      "Your first name is Megha and your last name is Thippanna\n"
     ]
    }
   ],
   "source": [
    "def name(fullname):\n",
    "    firstname, lastname = fullname.split(\" \")\n",
    "    print(f\"Your first name is {firstname} and your last name is {lastname}\")\n",
    "    \n",
    "name(\"Megha Thippanna\")"
   ]
  }
 ],
 "metadata": {
  "kernelspec": {
   "display_name": "Python 3 (ipykernel)",
   "language": "python",
   "name": "python3"
  },
  "language_info": {
   "codemirror_mode": {
    "name": "ipython",
    "version": 3
   },
   "file_extension": ".py",
   "mimetype": "text/x-python",
   "name": "python",
   "nbconvert_exporter": "python",
   "pygments_lexer": "ipython3",
   "version": "3.11.5"
  }
 },
 "nbformat": 4,
 "nbformat_minor": 5
}
