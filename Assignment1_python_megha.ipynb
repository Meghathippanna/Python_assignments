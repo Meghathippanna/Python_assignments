{
  "nbformat": 4,
  "nbformat_minor": 0,
  "metadata": {
    "colab": {
      "provenance": []
    },
    "kernelspec": {
      "name": "python3",
      "display_name": "Python 3"
    },
    "language_info": {
      "name": "python"
    }
  },
  "cells": [
    {
      "cell_type": "markdown",
      "source": [
        "**Assignment- 1 Python**"
      ],
      "metadata": {
        "id": "EO5x81kUYLUc"
      }
    },
    {
      "cell_type": "markdown",
      "source": [
        "1. In the below elements which of them are values or an expression? eg: values can be integers or string and expressions will be mathematical operators.\n",
        "  (*, 'hello', -87.8, -, /, +, 6)\n",
        "\n",
        " The Values are\n",
        "      *   'hello'\n",
        "      *   -87.8\n",
        "      *    6\n",
        "\n",
        "  The expressions are\n",
        "      *   -\n",
        "      *   /\n",
        "      *   +\n",
        "      *   *"
      ],
      "metadata": {
        "id": "CN7ujsmoYaOZ"
      }
    },
    {
      "cell_type": "markdown",
      "source": [
        "2. What is the difference between string and variable?\n",
        "\n",
        "  **String**--> The string represents sequence of characters within single quotes, double quotes or even triple quotes for multiple lines. Strings are immutable. Example: \"Assignment 1\" or 'Assignment' or \"12345678\" or ''' Beginning to explore Python. Have a Great day!'''\n",
        "\n",
        "  **Variable**--> Variable is the memory location that stores data values.\n",
        "  Variable names should start with a letter or underscore, no special character other than an underscore, python keywords cannot be variable name and are case-sensitive.\n",
        "\n",
        "  **Difference between Variable and String is** ---> Variables stores information/data whereas String is information/data.\n"
      ],
      "metadata": {
        "id": "IjSIBpdNKLt9"
      }
    },
    {
      "cell_type": "markdown",
      "source": [
        "3. Describe three different data types.\n",
        "\n",
        "*   **Lists:**\n",
        "    List is a collection of ordered data/values.\n",
        "    Lists stores data within square brackets separated by commas. Values within the lists are mutable and allows duplicates values\n",
        "    Example: My_list = [\"Megha\", 24, \"ineuron\", True]\n",
        "*   **int:**\n",
        "    Integer(int) holds positive or negative whole numbers without fractions/decimals.\n",
        "    Eg: Age = 24\n",
        "*   **dict:**\n",
        "    Data are stored as keys and values in the dictionaries(dict).\n",
        "    Dictionaries are enclosed by curly braces ({ }). Values in the dictionaries are mutable\n",
        "    Eg: {'Key1': 'Value1', 'Key2': 'Value2', 'Key3': 'Value3'}\n"
      ],
      "metadata": {
        "id": "wdaOyvixKon4"
      }
    },
    {
      "cell_type": "markdown",
      "source": [
        "4. What is an expression made up of? What do all expressions do?\n",
        "\n",
        "  Expression is made up of values, operators, variables and functions. Expression needs to evaluated and interpreted to produce result. Expressions perform operations on data, such as mathematical calculations, logical evaluations, and string manipulations.\n",
        "  There are\n",
        "  * Arithmetic expressions(Operators: +, -, /, //, %, **)\n",
        "  * Comparison expressions(Less than (<), Greater than (>), Less than or equal to (<=), Greater than or equal to (>=), Equal to (==), Not equal to (!=))\n",
        "  * Logical Expression( and , or , not)"
      ],
      "metadata": {
        "id": "w05Sz6lGKvr_"
      }
    },
    {
      "cell_type": "code",
      "source": [
        "#Examples of Arithmetic Operators\n",
        "x= 5\n",
        "y= 10\n",
        "add = x+ y\n",
        "print(add)\n",
        "sub = y-x\n",
        "print(sub)\n"
      ],
      "metadata": {
        "colab": {
          "base_uri": "https://localhost:8080/"
        },
        "id": "yRNXKr18LrN9",
        "outputId": "f3c6f3e6-c622-4738-a273-91cbbcd6d9b8"
      },
      "execution_count": 1,
      "outputs": [
        {
          "output_type": "stream",
          "name": "stdout",
          "text": [
            "15\n",
            "5\n"
          ]
        }
      ]
    },
    {
      "cell_type": "code",
      "source": [
        "#Examples of Comparison expressions\n",
        "x= 5\n",
        "y= 10\n",
        "result = x < y\n",
        "print(result)"
      ],
      "metadata": {
        "colab": {
          "base_uri": "https://localhost:8080/"
        },
        "id": "jqpqwKN9LrCZ",
        "outputId": "f8990de2-12c4-43ae-afab-8dd0285c4e61"
      },
      "execution_count": 2,
      "outputs": [
        {
          "output_type": "stream",
          "name": "stdout",
          "text": [
            "True\n"
          ]
        }
      ]
    },
    {
      "cell_type": "code",
      "source": [
        "#Examples of Logical Expression\n",
        "a = \"hello\"\n",
        "b = \"world\"\n",
        "result = a != b or len(a) > 3\n",
        "print(result)"
      ],
      "metadata": {
        "colab": {
          "base_uri": "https://localhost:8080/"
        },
        "id": "3RNkPibCLqyW",
        "outputId": "f03eee77-41d1-4e03-ab4e-f429044669de"
      },
      "execution_count": 3,
      "outputs": [
        {
          "output_type": "stream",
          "name": "stdout",
          "text": [
            "True\n"
          ]
        }
      ]
    },
    {
      "cell_type": "markdown",
      "source": [
        "  5. This assignment statements, like spam = 10. What is the difference between an expression and a statement?\n",
        "\n",
        "  Expression produces value after evaluating. But incase of statements represent an operation or simply an instruction.\n",
        "\n"
      ],
      "metadata": {
        "id": "34x8tP_kK2_h"
      }
    },
    {
      "cell_type": "markdown",
      "source": [
        "6. After running the following code, what does the variable bacon contain?\n",
        "\n",
        "    bacon = 22\n",
        "\n",
        "    bacon + 1\n",
        "\n",
        "    Answer:  23"
      ],
      "metadata": {
        "id": "sGLpcpVWNSw5"
      }
    },
    {
      "cell_type": "code",
      "source": [
        "bacon = 22\n",
        "bacon+ 1"
      ],
      "metadata": {
        "colab": {
          "base_uri": "https://localhost:8080/"
        },
        "id": "TvQptf7WPLF0",
        "outputId": "80fc5949-9aa3-4729-92d5-e8ae68d0c86c"
      },
      "execution_count": 4,
      "outputs": [
        {
          "output_type": "execute_result",
          "data": {
            "text/plain": [
              "23"
            ]
          },
          "metadata": {},
          "execution_count": 4
        }
      ]
    },
    {
      "cell_type": "markdown",
      "source": [
        "  7. What should the values of the following two terms be?\n",
        "\n",
        "    'spam' + 'spamspam'\n",
        "\n",
        "    'spam' * 3\n",
        "\n",
        "   Answer: 'spamspamspam'"
      ],
      "metadata": {
        "id": "fqAtYrkkNSX3"
      }
    },
    {
      "cell_type": "code",
      "source": [
        " 'spam' + 'spamspam'"
      ],
      "metadata": {
        "colab": {
          "base_uri": "https://localhost:8080/",
          "height": 35
        },
        "id": "uvBiLLb4PVUF",
        "outputId": "8f2f96af-b741-4a14-aa7d-9cb684f6b818"
      },
      "execution_count": 5,
      "outputs": [
        {
          "output_type": "execute_result",
          "data": {
            "text/plain": [
              "'spamspamspam'"
            ],
            "application/vnd.google.colaboratory.intrinsic+json": {
              "type": "string"
            }
          },
          "metadata": {},
          "execution_count": 5
        }
      ]
    },
    {
      "cell_type": "code",
      "source": [
        "'spam' * 3"
      ],
      "metadata": {
        "colab": {
          "base_uri": "https://localhost:8080/",
          "height": 35
        },
        "id": "yuSQ2tGlPuhx",
        "outputId": "361211bd-efa5-499a-a01e-bad37a40368f"
      },
      "execution_count": 6,
      "outputs": [
        {
          "output_type": "execute_result",
          "data": {
            "text/plain": [
              "'spamspamspam'"
            ],
            "application/vnd.google.colaboratory.intrinsic+json": {
              "type": "string"
            }
          },
          "metadata": {},
          "execution_count": 6
        }
      ]
    },
    {
      "cell_type": "markdown",
      "source": [
        "  8. Why is eggs a valid variable name while 100 is invalid?\n",
        "\n",
        "  Variable name cannot start with a number that is why eggs is a valid variable name while 100 isn't."
      ],
      "metadata": {
        "id": "ZiL3CFleNVUS"
      }
    },
    {
      "cell_type": "markdown",
      "source": [
        "  9. What three functions can be used to get the integer, floating-point number, or string version of a value?\n",
        "\n",
        "  The int(), float(), and str() functions will evaluate the integer, floating-point number, and string versions of the value passed to them.\n",
        "\n"
      ],
      "metadata": {
        "id": "ScnmFzklNU9a"
      }
    },
    {
      "cell_type": "markdown",
      "source": [
        "  10. Why does this expression cause an error? How can you fix it?\n",
        "  'I have eaten ' + 99 + ' burritos.'\n",
        "\n",
        "  Concatenation can happen with only data type. Consider 99 as a string can fix the error."
      ],
      "metadata": {
        "id": "nhtVWv56NUsr"
      }
    },
    {
      "cell_type": "code",
      "source": [
        "'I have eaten ' + '99' + ' burritos.'"
      ],
      "metadata": {
        "colab": {
          "base_uri": "https://localhost:8080/",
          "height": 35
        },
        "id": "vJfAEN6ERHNK",
        "outputId": "d81268cd-fa2d-4188-c33f-575f11da47bf"
      },
      "execution_count": 8,
      "outputs": [
        {
          "output_type": "execute_result",
          "data": {
            "text/plain": [
              "'I have eaten 99 burritos.'"
            ],
            "application/vnd.google.colaboratory.intrinsic+json": {
              "type": "string"
            }
          },
          "metadata": {},
          "execution_count": 8
        }
      ]
    }
  ]
}