{
 "cells": [
  {
   "cell_type": "markdown",
   "id": "7b6b478c",
   "metadata": {},
   "source": [
    "1. What does an empty dictionary's code look like?"
   ]
  },
  {
   "cell_type": "code",
   "execution_count": 5,
   "id": "c8977201",
   "metadata": {},
   "outputs": [
    {
     "name": "stdout",
     "output_type": "stream",
     "text": [
      "<class 'dict'>\n"
     ]
    },
    {
     "data": {
      "text/plain": [
       "{}"
      ]
     },
     "execution_count": 5,
     "metadata": {},
     "output_type": "execute_result"
    }
   ],
   "source": [
    "empty_dict = {}\n",
    "print(type(empty_dict))\n",
    "empty_dict"
   ]
  },
  {
   "cell_type": "markdown",
   "id": "2f202981",
   "metadata": {},
   "source": [
    "2. What is the value of a dictionary value with the key 'foo' and the value 42?\n",
    "\n",
    "Key is \"foo\". Value is \"42\". value_of_foo will have the value 42 "
   ]
  },
  {
   "cell_type": "code",
   "execution_count": 9,
   "id": "bc82711f",
   "metadata": {},
   "outputs": [
    {
     "data": {
      "text/plain": [
       "{'foo': '42'}"
      ]
     },
     "execution_count": 9,
     "metadata": {},
     "output_type": "execute_result"
    }
   ],
   "source": [
    "dict_1= {\"foo\": \"42\"}\n",
    "dict_1"
   ]
  },
  {
   "cell_type": "markdown",
   "id": "8262a51d",
   "metadata": {},
   "source": [
    "3. What is the most significant distinction between a dictionary and a list?\n",
    "        A list is ordered collection of elements. Elements are accessed using index. Elements in square brackets\n",
    "        A dictionary is unordered collection of values with keys. Values are accessed using keys. Keys and values in cruly brackets"
   ]
  },
  {
   "cell_type": "markdown",
   "id": "e9c80b4d",
   "metadata": {},
   "source": [
    "4. What happens if you try to access spam['foo'] if spam is {'bar': 100}?\n",
    "        The KeyError is raised when attempting to access a key that doesn't exist in the dictionary"
   ]
  },
  {
   "cell_type": "code",
   "execution_count": 11,
   "id": "9317bfd7",
   "metadata": {},
   "outputs": [
    {
     "ename": "KeyError",
     "evalue": "'foo'",
     "output_type": "error",
     "traceback": [
      "\u001b[1;31m---------------------------------------------------------------------------\u001b[0m",
      "\u001b[1;31mKeyError\u001b[0m                                  Traceback (most recent call last)",
      "\u001b[1;32m~\\AppData\\Local\\Temp\\ipykernel_27136\\4012900036.py\u001b[0m in \u001b[0;36m<module>\u001b[1;34m\u001b[0m\n\u001b[0;32m      1\u001b[0m \u001b[0mspam\u001b[0m \u001b[1;33m=\u001b[0m\u001b[1;33m{\u001b[0m\u001b[1;34m'bar'\u001b[0m\u001b[1;33m:\u001b[0m \u001b[1;36m100\u001b[0m\u001b[1;33m}\u001b[0m\u001b[1;33m\u001b[0m\u001b[1;33m\u001b[0m\u001b[0m\n\u001b[1;32m----> 2\u001b[1;33m \u001b[0mspam\u001b[0m\u001b[1;33m[\u001b[0m\u001b[1;34m'foo'\u001b[0m\u001b[1;33m]\u001b[0m\u001b[1;33m\u001b[0m\u001b[1;33m\u001b[0m\u001b[0m\n\u001b[0m",
      "\u001b[1;31mKeyError\u001b[0m: 'foo'"
     ]
    }
   ],
   "source": [
    "spam ={'bar': 100}\n",
    "spam['foo']"
   ]
  },
  {
   "cell_type": "markdown",
   "id": "d76e4d6e",
   "metadata": {},
   "source": [
    "5. If a dictionary is stored in spam, what is the difference between the expressions 'cat' in spam and 'cat' in spam.keys()?\n",
    "        \n",
    "    No difference. Both 'cat' in spam and 'cat' in spam.keys() checks for cat in keys"
   ]
  },
  {
   "cell_type": "code",
   "execution_count": 7,
   "id": "931e3a7c",
   "metadata": {},
   "outputs": [
    {
     "name": "stdout",
     "output_type": "stream",
     "text": [
      "False\n",
      "False\n"
     ]
    }
   ],
   "source": [
    "spam = {'pet': 'cat', 'Name': 'Tom'}\n",
    "print('cat' in spam)\n",
    "print('cat' in spam.keys())"
   ]
  },
  {
   "cell_type": "markdown",
   "id": "9bc885a9",
   "metadata": {},
   "source": [
    "6. If a dictionary is stored in spam, what is the difference between the expressions 'cat' in spam and 'cat' in spam.values()?\n",
    "            'cat' in spam checks for 'cat' in keys alone whereas\n",
    "            'cat' in spam.values() checks for 'cat' in values"
   ]
  },
  {
   "cell_type": "code",
   "execution_count": 8,
   "id": "e5669989",
   "metadata": {},
   "outputs": [
    {
     "name": "stdout",
     "output_type": "stream",
     "text": [
      "False\n",
      "True\n"
     ]
    }
   ],
   "source": [
    "spam = {'pet': 'cat', 'Name': 'Tom'}\n",
    "print('cat' in spam)\n",
    "print('cat' in spam.values())"
   ]
  },
  {
   "cell_type": "markdown",
   "id": "6df772fb",
   "metadata": {},
   "source": [
    "7. What is a shortcut for the following code?\n",
    "if 'color' not in spam:\n",
    "spam['color'] = 'black'"
   ]
  },
  {
   "cell_type": "code",
   "execution_count": 10,
   "id": "97e90088",
   "metadata": {},
   "outputs": [
    {
     "data": {
      "text/plain": [
       "{'pet': 'cat', 'Name': 'Tom', 'color': 'black'}"
      ]
     },
     "execution_count": 10,
     "metadata": {},
     "output_type": "execute_result"
    }
   ],
   "source": [
    "spam= {'pet': 'cat', 'Name': 'Tom'}\n",
    "spam.setdefault('color', 'black')\n",
    "spam"
   ]
  },
  {
   "cell_type": "markdown",
   "id": "e0d74a54",
   "metadata": {},
   "source": [
    "8. How do you \"pretty print\" dictionary values using which module and function?\n",
    "            pretty print module allows to print dictionary values in a more readable format. "
   ]
  },
  {
   "cell_type": "code",
   "execution_count": 14,
   "id": "e30d9c7d",
   "metadata": {},
   "outputs": [
    {
     "name": "stdout",
     "output_type": "stream",
     "text": [
      "[{'Name': 'Tom', 'color': 'Black', 'pet': 'cat'},\n",
      " {'Name': 'Graphy', 'color': 'White', 'pet': 'dog'},\n",
      " {'Name': 'Jerry', 'color': 'Brown', 'pet': 'mouse'}]\n"
     ]
    }
   ],
   "source": [
    "from pprint import pprint\n",
    "\n",
    "my_dict = [{'pet': 'cat', 'Name': 'Tom', 'color': 'Black'},\n",
    "           {'pet': 'dog', 'Name': 'Graphy', 'color': 'White'},\n",
    "           {'pet': 'mouse', 'Name': 'Jerry', 'color': 'Brown'}]\n",
    "\n",
    "# Using pprint to pretty print the dictionary\n",
    "pprint(my_dict)"
   ]
  },
  {
   "cell_type": "code",
   "execution_count": 15,
   "id": "68bf44eb",
   "metadata": {},
   "outputs": [
    {
     "name": "stdout",
     "output_type": "stream",
     "text": [
      "[{'pet': 'cat', 'Name': 'Tom', 'color': 'Black'}, {'pet': 'dog', 'Name': 'Graphy', 'color': 'White'}, {'pet': 'mouse', 'Name': 'Jerry', 'color': 'Brown'}]\n"
     ]
    }
   ],
   "source": [
    "print(my_dict)"
   ]
  }
 ],
 "metadata": {
  "kernelspec": {
   "display_name": "Python 3 (ipykernel)",
   "language": "python",
   "name": "python3"
  },
  "language_info": {
   "codemirror_mode": {
    "name": "ipython",
    "version": 3
   },
   "file_extension": ".py",
   "mimetype": "text/x-python",
   "name": "python",
   "nbconvert_exporter": "python",
   "pygments_lexer": "ipython3",
   "version": "3.9.13"
  }
 },
 "nbformat": 4,
 "nbformat_minor": 5
}
