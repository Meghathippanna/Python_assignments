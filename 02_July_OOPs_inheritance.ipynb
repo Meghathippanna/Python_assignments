{
 "cells": [
  {
   "cell_type": "markdown",
   "id": "ea9fd7c3",
   "metadata": {},
   "source": [
    "1. Explain what inheritance is in object-oriented programming and why it is used."
   ]
  },
  {
   "cell_type": "markdown",
   "id": "4f4279b9",
   "metadata": {},
   "source": [
    "Inheritance is a new class/subclass is derived from an existing class or called as superclass, inheriting its attributes and methods. \n",
    "\n",
    "Uses: -->code reusability, \n",
    "      -->organize code hierarchically, \n",
    "      -->enable polymorphism\n",
    "      \n",
    "In the below example, class fruits is a superclass, and class red_fruits is subclass."
   ]
  },
  {
   "cell_type": "code",
   "execution_count": 15,
   "id": "fcaefb54",
   "metadata": {},
   "outputs": [
    {
     "name": "stdout",
     "output_type": "stream",
     "text": [
      "The colour of Apple is red\n"
     ]
    }
   ],
   "source": [
    "class fruits:\n",
    "    def __init__(self, name):\n",
    "        self.name = name\n",
    "        \n",
    "class red_fruits(fruits):\n",
    "    def colour(self):\n",
    "        return f\"The colour of {self.name} is red\"\n",
    "    \n",
    "fruit1 =red_fruits(\"Apple\")\n",
    "print(fruit1.colour())"
   ]
  },
  {
   "cell_type": "markdown",
   "id": "1877e1fb",
   "metadata": {},
   "source": [
    " 2. Discuss the concept of single inheritance and multiple inheritance, highlighting their\n",
    " differences and advantages."
   ]
  },
  {
   "cell_type": "markdown",
   "id": "67fc8ddd",
   "metadata": {},
   "source": [
    "Single inheritance: class inherits from only one superclass.\n",
    "Advantages: Easy to understand, simplicity, avoids complexity, easy maintenance \n",
    "Disadvantages: limited reusability\n",
    "    \n",
    "Multiple inheritance: class inherits from two or more superclass\n",
    "Advantages: Reusability, Flexible\n",
    "Disadvantages: Complex, conflict, maintanance challenges"
   ]
  },
  {
   "cell_type": "code",
   "execution_count": 19,
   "id": "3651ccd3",
   "metadata": {},
   "outputs": [
    {
     "name": "stdout",
     "output_type": "stream",
     "text": [
      "Chirp\n",
      "Flying high\n"
     ]
    }
   ],
   "source": [
    "class Animal:\n",
    "    def speak(self):\n",
    "        return \"Some sound\"\n",
    "\n",
    "class Flyer:\n",
    "    def fly(self):\n",
    "        return \"Flying high\"\n",
    "\n",
    "class Bird(Animal, Flyer):\n",
    "    def speak(self):\n",
    "        return \"Chirp\"\n",
    "\n",
    "bird = Bird()\n",
    "print(bird.speak()) \n",
    "print(bird.fly())   \n"
   ]
  },
  {
   "cell_type": "markdown",
   "id": "cbbcb32f",
   "metadata": {},
   "source": [
    "3. Explain the terms \"base class\" and \"derived class\" in the context of inheritance. "
   ]
  },
  {
   "cell_type": "markdown",
   "id": "50d77374",
   "metadata": {},
   "source": [
    "Base class: also called as parent class or superclass, is the class from which other classes (derived classes) inherit attributes and methods.\n",
    "\n",
    "Derived class: also known as child class or subclass, is the class that inherits from the base class. It can extend or override the functionality of the base class."
   ]
  },
  {
   "cell_type": "code",
   "execution_count": 30,
   "id": "5134b472",
   "metadata": {},
   "outputs": [
    {
     "name": "stdout",
     "output_type": "stream",
     "text": [
      "Woof!\n",
      "Domestic\n"
     ]
    }
   ],
   "source": [
    "#Example of base class\n",
    "class Animal:\n",
    "    def __init__(self, name):\n",
    "        self.name = name\n",
    "\n",
    "    def type(self):\n",
    "        return \"Domestic\"\n",
    "    \n",
    "#Example of dervied class\n",
    "class Dog(Animal):\n",
    "    def speak(self):\n",
    "        return \"Woof!\"\n",
    "    \n",
    "dog1 = Dog(\"Dog\")\n",
    "print(dog1.speak())\n",
    "print(dog1.type())"
   ]
  },
  {
   "cell_type": "markdown",
   "id": "48373f3c",
   "metadata": {},
   "source": [
    " 4. What is the significance of the \"protected\" access modifier in inheritance? How does\n",
    " it differ from \"private\" and \"public\" modifiers?"
   ]
  },
  {
   "cell_type": "markdown",
   "id": "47e39bc5",
   "metadata": {},
   "source": [
    "--> access modifiers control the visibility and accessibility of class members (attributes and methods)\n",
    "--> The \"protected\" access modifier is accessible within its own class and by derived classes (subclasses), but not from outside these classes\n",
    "\n",
    "-->\"private\" access modifier is only accessible within the class in which they are defined. They cannot be accessed from derived classes or outside the class.\n",
    "\n",
    "--> \"public\" access modifier allows class members to be accessible from anywhere—both within the class, in derived classes, and from outside the class.\n"
   ]
  },
  {
   "cell_type": "code",
   "execution_count": 27,
   "id": "569301d7",
   "metadata": {},
   "outputs": [
    {
     "name": "stdout",
     "output_type": "stream",
     "text": [
      "I am protected\n"
     ]
    }
   ],
   "source": [
    "class Base:\n",
    "    def __init__(self):\n",
    "        self._protected_attribute = \"I am protected\"\n",
    "\n",
    "class Derived(Base):\n",
    "    def get_protected_attribute(self):\n",
    "        return self._protected_attribute\n",
    "\n",
    "obj = Derived()\n",
    "print(obj.get_protected_attribute())  "
   ]
  },
  {
   "cell_type": "code",
   "execution_count": 29,
   "id": "53d43e44",
   "metadata": {},
   "outputs": [
    {
     "name": "stdout",
     "output_type": "stream",
     "text": [
      "I am private\n",
      "Cannot access private attribute\n"
     ]
    }
   ],
   "source": [
    "class Base:\n",
    "    def __init__(self):\n",
    "        self.__private_attribute = \"I am private\"\n",
    "\n",
    "    def get_private_attribute(self):\n",
    "        return self.__private_attribute\n",
    "\n",
    "class Derived(Base):\n",
    "    def access_private(self):\n",
    "        try:\n",
    "            return self.__private_attribute\n",
    "        except AttributeError:\n",
    "            return \"Cannot access private attribute\"\n",
    "\n",
    "# Usage\n",
    "obj = Derived()\n",
    "print(obj.access_private())  # Output: Cannot access private attribute\n"
   ]
  },
  {
   "cell_type": "markdown",
   "id": "62bf0b12",
   "metadata": {},
   "source": [
    "5. What is the purpose of the \"super\" keyword in inheritance? Provide an example."
   ]
  },
  {
   "cell_type": "markdown",
   "id": "d8787236",
   "metadata": {},
   "source": [
    "The super keyword in inheritance is used to call methods and access attributes of a parent (or base) class from a derived (or child) class. It is particularly useful for extending or modifying the functionality of inherited methods and constructors"
   ]
  },
  {
   "cell_type": "code",
   "execution_count": 31,
   "id": "7e289548",
   "metadata": {},
   "outputs": [
    {
     "name": "stdout",
     "output_type": "stream",
     "text": [
      "Hello, my name is Alice and I am 10 years old\n"
     ]
    }
   ],
   "source": [
    "class Parent:\n",
    "    def __init__(self, name):\n",
    "        self.name = name\n",
    "\n",
    "    def greet(self):\n",
    "        return f\"Hello, my name is {self.name}\"\n",
    "class Child(Parent):\n",
    "    def __init__(self, name, age):\n",
    "        super().__init__(name)\n",
    "        self.age = age\n",
    "\n",
    "    def greet(self):\n",
    "        parent_greeting = super().greet()\n",
    "        return f\"{parent_greeting} and I am {self.age} years old\"\n",
    "child = Child(\"Alice\", 10)\n",
    "\n",
    "print(child.greet())  \n"
   ]
  },
  {
   "cell_type": "markdown",
   "id": "a6f42b21",
   "metadata": {},
   "source": [
    "6. Create a base class called \"Vehicle\" with attributes like \"make\", \"model\", and \"year\".\n",
    " Then, create a derived class called \"Car\" that inherits from \"Vehicle\" and adds an\n",
    " attribute called \"fuel_type\". Implement appropriate methods in both classes."
   ]
  },
  {
   "cell_type": "code",
   "execution_count": 36,
   "id": "0f4dbeed",
   "metadata": {},
   "outputs": [
    {
     "name": "stdout",
     "output_type": "stream",
     "text": [
      "The vehicle is from the company Tata and model Nexon of the year 2024\n",
      "Nexon uses petrol\n"
     ]
    }
   ],
   "source": [
    "class Vehicle:\n",
    "    def __init__(self, make, model, year):\n",
    "        self.make = make\n",
    "        self.model = model\n",
    "        self.year = year\n",
    "    \n",
    "    def define_vehicle(self):\n",
    "        return f\"The vehicle is from the company {self.make} and model {self.model} of the year {self.year}\"\n",
    "    \n",
    "class Car(Vehicle):\n",
    "    def __init__(self, make, model, year, fuel_type):\n",
    "        super().__init__(make, model, year)\n",
    "        self.fuel_type = fuel_type\n",
    "        \n",
    "    def get_fuel_type(self):\n",
    "        return f\"{self.model} uses {self.fuel_type}\"\n",
    "    \n",
    "Car1 = Car(\"Tata\", \"Nexon\" , 2024, \"petrol\")\n",
    "print(Car1.define_vehicle())\n",
    "print(Car1.get_fuel_type())\n"
   ]
  },
  {
   "cell_type": "markdown",
   "id": "7a213331",
   "metadata": {},
   "source": [
    "7. Create a base class called \"Employee\" with attributes like \"name\" and \"salary.\" Derive two classes, \"Manager\" and \"Developer,\" from \"Employee.\" Add an additional\n",
    " attribute called \"department\" for the \"Manager\" class and \"programming_language\"  for the \"Developer\" class."
   ]
  },
  {
   "cell_type": "code",
   "execution_count": 9,
   "id": "91557d7c",
   "metadata": {},
   "outputs": [
    {
     "name": "stdout",
     "output_type": "stream",
     "text": [
      "Id of the employee Megha is 123_Megha\n",
      "She/He works in the department Data Science \n",
      "Megha is Python developer and earns 12 per annum\n"
     ]
    }
   ],
   "source": [
    "class Employee:\n",
    "    def __init__(self,name, salary):\n",
    "        self.name = name\n",
    "        self.salary = salary\n",
    "    def show_id(self):\n",
    "        return f\"Id of the employee {self.name} is 123_{self.name}\"\n",
    "\n",
    "    \n",
    "class Manager(Employee):\n",
    "    def __init__(self, name, salary, department):\n",
    "        super().__init__(name, salary)\n",
    "        self.department = department\n",
    "    \n",
    "    def get_details(self):\n",
    "        return f\"She/He works in the department {self.department} \"\n",
    "        \n",
    "\n",
    "class Developer(Employee):\n",
    "    def  __init__(self, name, salary, programming_language):\n",
    "        super().__init__(name, salary)\n",
    "        self.programming_language = programming_language\n",
    "        \n",
    "    def get_lang_details(self):\n",
    "        return f\"{self.name} is {self.programming_language} developer and earns {self.salary} per annum\"\n",
    "\n",
    "\n",
    "Emp1 = Employee(\"Megha\", 12)\n",
    "print(Emp1.show_id())\n",
    "Emp1a = Manager(\"Megha\", 12, \"Data Science\")\n",
    "print(Emp1a.get_details())\n",
    "Emp1 = Developer(\"Megha\", 12, \"Python\")\n",
    "print(Emp1.get_lang_details())"
   ]
  },
  {
   "cell_type": "markdown",
   "id": "08eb6fea",
   "metadata": {},
   "source": [
    " 8. Design a base class called \"Shape\" with attributes like \"colour\" and \"border_width.\" Create derived classes, \"Rectangle\" and \"Circle,\" that inherit from \"Shape\" and add\n",
    " specific attributes like \"length\" and \"width\" for the \"Rectangle\" class and \"radius\" for the \"Circle\" class."
   ]
  },
  {
   "cell_type": "code",
   "execution_count": 17,
   "id": "d9724476",
   "metadata": {},
   "outputs": [
    {
     "name": "stdout",
     "output_type": "stream",
     "text": [
      "The area of the red rectangle is 28 \n",
      "The diameter of the circle with border width 1.5pt is 10\n"
     ]
    }
   ],
   "source": [
    "class Shape:\n",
    "    def __init__(self, colour, border_width):\n",
    "        self.colour = colour\n",
    "        self.border_width = border_width\n",
    "        \n",
    "class Rectangle(Shape):\n",
    "    def __init__(self, colour, border_width, length, width):\n",
    "        super().__init__(colour, border_width)\n",
    "        self.length = length\n",
    "        self.width = width\n",
    "    \n",
    "    def area_of_rect(self):\n",
    "        area = self.length * self.width\n",
    "        return f\"The area of the {self.colour} rectangle is {area} \"\n",
    "        \n",
    "\n",
    "class Circle(Shape):\n",
    "    def __init__(self, colour, border_width, radius):\n",
    "        super().__init__(colour, border_width)\n",
    "        self.radius = radius\n",
    "    \n",
    "    def diameter(self):\n",
    "        diameter = 2*self.radius\n",
    "        return f\"The diameter of the circle with border width {self.border_width} is {diameter}\"\n",
    "    \n",
    "Rectangle1 = Rectangle(\"red\", \"1.5pt\", 7, 4)\n",
    "print(Rectangle1.area_of_rect())\n",
    "\n",
    "Circle1 = Circle(\"blue\", \"1.5pt\", 5)\n",
    "print(Circle1.diameter())"
   ]
  },
  {
   "cell_type": "markdown",
   "id": "d4e0f45e",
   "metadata": {},
   "source": [
    " 9. Create a base class called \"Device\" with attributes like \"brand\" and \"model.\" Derive\n",
    " two classes, \"Phone\" and \"Tablet,\" from \"Device.\" Add specific attributes like\n",
    " \"screen_size\" for the \"Phone\" class and \"battery_capacity\" for the \"Tablet\" class."
   ]
  },
  {
   "cell_type": "code",
   "execution_count": null,
   "id": "010127ae",
   "metadata": {},
   "outputs": [],
   "source": [
    "class Device:\n",
    "    def __init__(self, brand, model):\n",
    "        self.brand = brand\n",
    "        self.model = model\n",
    "    \n",
    "class Phone(Device):\n",
    "    def __init__(self, brand, model, screen_size):\n",
    "        super().__init__(brand, model)\n",
    "        self.screen_size = screen_size\n",
    "\n",
    "class Tablet(Device):\n",
    "    def __init__(self, brand, model, battery_capacity):\n",
    "        super().__init__(brand, model)\n",
    "        self.battery_capacity = battery_capacity\n"
   ]
  },
  {
   "cell_type": "markdown",
   "id": "b82e13bf",
   "metadata": {},
   "source": [
    "10. Create a base class called \"BankAccount\" with attributes like \"account_number\" and \"balance.\" Derive two classes, \"SavingsAccount\" and \"CheckingAccount,\" from\n",
    " \"BankAccount.\" Add specific methods like \"calculate_interest\" for the \"SavingsAccount\" class and \"deduct_fees\" for the \"CheckingAccount\" class."
   ]
  },
  {
   "cell_type": "code",
   "execution_count": 26,
   "id": "1c8a1762",
   "metadata": {},
   "outputs": [
    {
     "name": "stdout",
     "output_type": "stream",
     "text": [
      "Interest of $150.00 added. New Balance: $3150.00\n",
      "Fee of $15.00 deducted. New Balance: $485.00\n"
     ]
    }
   ],
   "source": [
    "class BankAccount:\n",
    "    def __init__(self, account_number, balance):\n",
    "        self.account_number = account_number\n",
    "        self.balance = balance\n",
    "\n",
    "class SavingsAccount(BankAccount):\n",
    "    def __init__(self, account_number, balance, interest_rate):\n",
    "        super().__init__(account_number, balance)\n",
    "        self.interest_rate = interest_rate\n",
    "\n",
    "    def calculate_interest(self):\n",
    "        interest = self.balance * self.interest_rate / 100\n",
    "        self.balance += interest\n",
    "        return f\"Interest of ${interest:.2f} added. New Balance: ${self.balance:.2f}\"\n",
    "\n",
    "        \n",
    "\n",
    "class CheckingAccount(BankAccount):\n",
    "    def __init__(self, account_number, balance, fee):\n",
    "        super().__init__(account_number, balance)\n",
    "        self.fee = fee\n",
    "\n",
    "    def deduct_fees(self):\n",
    "        if self.balance < self.fee:\n",
    "            return \"Insufficient funds to deduct fees\"\n",
    "        self.balance -= self.fee\n",
    "        return f\"Fee of ${self.fee:.2f} deducted. New Balance: ${self.balance:.2f}\"\n",
    "        \n",
    "        \n",
    "Acc1 = SavingsAccount(\"1234 5678 9876 5432\", 3000, 5)  \n",
    "print(Acc1.calculate_interest())\n",
    "\n",
    "acc2= CheckingAccount(\"CA67890\", 500.00, 15.00)\n",
    "print(acc2.deduct_fees())   "
   ]
  }
 ],
 "metadata": {
  "kernelspec": {
   "display_name": "Python 3 (ipykernel)",
   "language": "python",
   "name": "python3"
  },
  "language_info": {
   "codemirror_mode": {
    "name": "ipython",
    "version": 3
   },
   "file_extension": ".py",
   "mimetype": "text/x-python",
   "name": "python",
   "nbconvert_exporter": "python",
   "pygments_lexer": "ipython3",
   "version": "3.11.7"
  }
 },
 "nbformat": 4,
 "nbformat_minor": 5
}
